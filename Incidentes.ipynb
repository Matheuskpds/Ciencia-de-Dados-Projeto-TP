{
 "cells": [
  {
   "cell_type": "markdown",
   "metadata": {},
   "source": [
    "### Configuração de Ambiente:"
   ]
  },
  {
   "cell_type": "markdown",
   "metadata": {},
   "source": [
    "Baixar o arquivo csv, caso não tenha no projeto:"
   ]
  },
  {
   "cell_type": "code",
   "execution_count": null,
   "metadata": {},
   "outputs": [],
   "source": [
    "import subprocess\n",
    "import sys\n",
    "\n",
    "# Tenta importar gdown, se não conseguir, instala\n",
    "try:\n",
    "    import gdown\n",
    "except ImportError:\n",
    "    print(\"📥 gdown não encontrado. Instalando automaticamente...\")\n",
    "    subprocess.check_call([sys.executable, \"-m\", \"pip\", \"install\", \"gdown\"])\n",
    "    import gdown  # Tenta importar novamente após a instalação\n",
    "\n",
    "# Baixar o arquivo do Google Drive\n",
    "\n",
    "file_id = \"1VbB_fvowkgNoWcLADi1mEfFjWQI6nBjp\"\n",
    "url = f\"https://drive.google.com/uc?id={file_id}\"\n",
    "output = \"dados/SpSafe_2022.csv\"\n",
    "\n",
    "gdown.download(url, output, quiet=False)\n"
   ]
  },
  {
   "cell_type": "markdown",
   "metadata": {},
   "source": [
    "Leitura do arquivo"
   ]
  },
  {
   "cell_type": "code",
   "execution_count": null,
   "metadata": {},
   "outputs": [],
   "source": [
    "import pandas as pd\n",
    "df = pd.read_csv('dados/SpSafe_2022.csv', delimiter=';')\n",
    "pd.set_option('display.max_columns', None)\n"
   ]
  },
  {
   "cell_type": "code",
   "execution_count": null,
   "metadata": {},
   "outputs": [],
   "source": [
    "#Conventendo a coluna DATA_OCORRENCIA para datetime para ser reconhecido como data pelo pandas\n",
    "df['DATA_OCORRENCIA'] = pd.to_datetime(df['DATA_OCORRENCIA'])"
   ]
  },
  {
   "cell_type": "code",
   "execution_count": null,
   "metadata": {},
   "outputs": [],
   "source": [
    "#Criação de coluna com o dia da semana\n",
    "df.insert(df.columns.get_loc('DATA_OCORRENCIA') + 1, 'DIA_SEMANA', df['DATA_OCORRENCIA'].dt.day_name())"
   ]
  },
  {
   "cell_type": "code",
   "execution_count": null,
   "metadata": {},
   "outputs": [],
   "source": [
    "#Convertendo os dias da semana para português\n",
    "dias_semana = {\n",
    "    'Monday': 'SEGUNDA-FEIRA', 'Tuesday': 'TERÇA-FEIRA', 'Wednesday': 'QUARTA-FEIRA',\n",
    "    'Thursday': 'QUINTA-FEIRA', 'Friday': 'SEXTA-FEIRA', 'Saturday': 'SÁBADO', 'Sunday': 'DOMINGO'\n",
    "}\n",
    "df['DIA_SEMANA'] = df['DATA_OCORRENCIA'].dt.day_name().map(dias_semana)\n"
   ]
  },
  {
   "cell_type": "markdown",
   "metadata": {},
   "source": [
    "Imprimindo resultado:"
   ]
  },
  {
   "cell_type": "code",
   "execution_count": null,
   "metadata": {},
   "outputs": [],
   "source": [
    "df"
   ]
  },
  {
   "cell_type": "markdown",
   "metadata": {},
   "source": [
    "### Incidentes:"
   ]
  },
  {
   "cell_type": "markdown",
   "metadata": {},
   "source": [
    "Criação do campo:"
   ]
  },
  {
   "cell_type": "code",
   "execution_count": null,
   "metadata": {},
   "outputs": [],
   "source": [
    "import pandas as pd\n",
    "\n",
    "# Criar uma coluna combinada para o local de elaboração\n",
    "df['LOCAL_ELABORACAO'] = df['DELEGACIA_ELABORACAO'].fillna(\n",
    "                          df['DEPARTAMENTO_ELABORACAO'].fillna(\n",
    "                          df['SECCIONAL_ELABORACAO']))\n",
    "\n",
    "# Agora use esta coluna única no agrupamento\n",
    "dados_incidente = ['DATA_OCORRENCIA', 'PERIODO_OCORRENCIA', \n",
    "                'LOGRADOURO', 'NUMERO_LOGRADOURO', 'BAIRRO', 'UF', \n",
    "                  'TIPO_LOCAL', 'LOCAL_ELABORACAO','DIA_SEMANA']\n",
    "\n",
    "df['INCIDENTES_ID'] = df.groupby(dados_incidente).ngroup() + 1\n",
    "\n",
    "# Verificar um incidente específico\n",
    "df"
   ]
  },
  {
   "cell_type": "markdown",
   "metadata": {},
   "source": [
    "Quantidade de Incidentes:"
   ]
  },
  {
   "cell_type": "code",
   "execution_count": null,
   "metadata": {},
   "outputs": [],
   "source": [
    "# Filtrar apenas registros que pertencem a incidentes (excluindo possíveis registros sem agrupamento)\n",
    "dados_com_incidentes = df[df['INCIDENTES_ID'].notna()]\n",
    "\n",
    "# Mostrar esses dados\n",
    "dados_com_incidentes.nunique()"
   ]
  }
 ],
 "metadata": {
  "kernelspec": {
   "display_name": "Python 3",
   "language": "python",
   "name": "python3"
  },
  "language_info": {
   "codemirror_mode": {
    "name": "ipython",
    "version": 3
   },
   "file_extension": ".py",
   "mimetype": "text/x-python",
   "name": "python",
   "nbconvert_exporter": "python",
   "pygments_lexer": "ipython3",
   "version": "3.13.2"
  }
 },
 "nbformat": 4,
 "nbformat_minor": 2
}
