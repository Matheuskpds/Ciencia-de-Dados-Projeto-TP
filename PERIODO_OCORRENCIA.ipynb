{
 "cells": [
  {
   "cell_type": "markdown",
   "metadata": {},
   "source": [
    "### Configuração de Ambiente:"
   ]
  },
  {
   "cell_type": "markdown",
   "metadata": {},
   "source": [
    "Baixar o arquivo csv, caso não tenha no projeto:"
   ]
  },
  {
   "cell_type": "code",
   "execution_count": null,
   "metadata": {},
   "outputs": [],
   "source": [
    "import subprocess\n",
    "import sys\n",
    "\n",
    "# Tenta importar gdown, se não conseguir, instala\n",
    "try:\n",
    "    import gdown\n",
    "except ImportError:\n",
    "    print(\"📥 gdown não encontrado. Instalando automaticamente...\")\n",
    "    subprocess.check_call([sys.executable, \"-m\", \"pip\", \"install\", \"gdown\"])\n",
    "    import gdown  # Tenta importar novamente após a instalação\n",
    "\n",
    "# Baixar o arquivo do Google Drive\n",
    "\n",
    "file_id = \"1VbB_fvowkgNoWcLADi1mEfFjWQI6nBjp\"\n",
    "url = f\"https://drive.google.com/uc?id={file_id}\"\n",
    "output = \"dados/SpSafe_2022.csv\"\n",
    "\n",
    "gdown.download(url, output, quiet=False)\n"
   ]
  },
  {
   "cell_type": "markdown",
   "metadata": {},
   "source": [
    "Leitura do arquivo"
   ]
  },
  {
   "cell_type": "code",
   "execution_count": null,
   "metadata": {},
   "outputs": [],
   "source": [
    "import pandas as pd\n",
    "df = pd.read_csv('dados/SpSafe_2022.csv', delimiter=';')\n",
    "pd.set_option('display.max_columns', None)\n"
   ]
  },
  {
   "cell_type": "code",
   "execution_count": null,
   "metadata": {},
   "outputs": [],
   "source": [
    "import pandas as pd\n",
    "df = pd.read_csv('dados/SpSafe_2022.csv', delimiter=';')\n",
    "pd.set_option('display.max_columns', None)\n"
   ]
  },
  {
   "cell_type": "code",
   "execution_count": null,
   "metadata": {},
   "outputs": [],
   "source": [
    "#Criação de coluna com o dia da semana\n",
    "df.insert(df.columns.get_loc('DATA_OCORRENCIA') + 1, 'DIA_SEMANA', df['DATA_OCORRENCIA'].dt.day_name())"
   ]
  },
  {
   "cell_type": "code",
   "execution_count": null,
   "metadata": {},
   "outputs": [],
   "source": [
    "#Convertendo os dias da semana para português\n",
    "dias_semana = {\n",
    "    'Monday': 'SEGUNDA-FEIRA', 'Tuesday': 'TERÇA-FEIRA', 'Wednesday': 'QUARTA-FEIRA',\n",
    "    'Thursday': 'QUINTA-FEIRA', 'Friday': 'SEXTA-FEIRA', 'Saturday': 'SÁBADO', 'Sunday': 'DOMINGO'\n",
    "}\n",
    "df['DIA_SEMANA'] = df['DATA_OCORRENCIA'].dt.day_name().map(dias_semana)\n"
   ]
  },
  {
   "cell_type": "markdown",
   "metadata": {},
   "source": [
    "### Tratamento de PERIODO_OCORRENCIA:"
   ]
  },
  {
   "cell_type": "markdown",
   "metadata": {},
   "source": [
    "Verificando Objetos que 'PERIODO_OCORRENCIA' são \"NaN\":"
   ]
  },
  {
   "cell_type": "code",
   "execution_count": null,
   "metadata": {},
   "outputs": [],
   "source": [
    "df_nam = df[df['PERIODO_OCORRENCIA'].isna()]\n",
    "df_nam"
   ]
  },
  {
   "cell_type": "markdown",
   "metadata": {},
   "source": [
    "Verificando Objetos que 'PERIODO_OCORRENCIA' e 'HORA_OCORRENCIA' são \"NaN\":"
   ]
  },
  {
   "cell_type": "code",
   "execution_count": null,
   "metadata": {},
   "outputs": [],
   "source": [
    "mask1 = df['HORA_OCORRENCIA'].isna().astype(bool)\n",
    "mask2 = df['PERIODO_OCORRENCIA'].isna().astype(bool)\n",
    "df_nam = df[mask1 & mask2]  # or mask1 | mask2 for OR condition\n",
    "df_nam"
   ]
  },
  {
   "cell_type": "markdown",
   "metadata": {},
   "source": [
    "Filtro de Tratamento"
   ]
  },
  {
   "cell_type": "code",
   "execution_count": null,
   "metadata": {},
   "outputs": [],
   "source": [
    "import pandas as pd\n",
    "import numpy as np\n",
    "\n",
    "# 1. Filtra linhas onde PERIODO_OCORRENCIA é nulo (usando isna)\n",
    "df_nam = df[df['PERIODO_OCORRENCIA'].isna()].copy()\n",
    "\n",
    "# 2. Atualiza PERIODO_OCORRENCIA baseado em HORA_OCORRENCIA (formato \"HH:MM:SS\")\n",
    "def definir_periodo(hora_str):\n",
    "    if pd.isna(hora_str):\n",
    "        return \"EM HORA INCERTA\"\n",
    "    \n",
    "    try:\n",
    "        hora_part = hora_str.split(':')[0]\n",
    "        hora = int(hora_part)\n",
    "    except (ValueError, IndexError, AttributeError):\n",
    "        return \"EM HORA INCERTA\"\n",
    "    \n",
    "    if 0 <= hora < 5:\n",
    "        return \"DE MADRUGADA\"\n",
    "    elif 5 <= hora < 12:\n",
    "        return \"PELA MANHÃ\"\n",
    "    elif 12 <= hora < 18:\n",
    "        return \"A TARDE\"\n",
    "    elif 18 <= hora <= 23:\n",
    "        return \"A NOITE\"\n",
    "    else:\n",
    "        return \"EM HORA INCERTA\"\n",
    "\n",
    "# Aplica a função para atualizar os valores\n",
    "df_nam['PERIODO_OCORRENCIA'] = df_nam['HORA_OCORRENCIA'].apply(definir_periodo)\n",
    "\n",
    "# Verifica o resultado\n",
    "df_nam"
   ]
  },
  {
   "cell_type": "markdown",
   "metadata": {},
   "source": [
    "Atualiza o DataFrame:"
   ]
  },
  {
   "cell_type": "code",
   "execution_count": null,
   "metadata": {},
   "outputs": [],
   "source": [
    "df['PERIODO_OCORRENCIA'] = np.where(\n",
    "    df['PERIODO_OCORRENCIA'].isna(),\n",
    "    df['HORA_OCORRENCIA'].apply(definir_periodo),\n",
    "    df['PERIODO_OCORRENCIA']\n",
    ")\n",
    "\n",
    "df[df['PERIODO_OCORRENCIA'].isna()]"
   ]
  }
 ],
 "metadata": {
  "kernelspec": {
   "display_name": "Python 3",
   "language": "python",
   "name": "python3"
  },
  "language_info": {
   "codemirror_mode": {
    "name": "ipython",
    "version": 3
   },
   "file_extension": ".py",
   "mimetype": "text/x-python",
   "name": "python",
   "nbconvert_exporter": "python",
   "pygments_lexer": "ipython3",
   "version": "3.13.2"
  }
 },
 "nbformat": 4,
 "nbformat_minor": 2
}
