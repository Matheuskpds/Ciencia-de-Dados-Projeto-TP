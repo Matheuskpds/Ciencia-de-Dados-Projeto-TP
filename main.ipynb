{
 "cells": [
  {
   "cell_type": "code",
   "execution_count": 2,
   "metadata": {},
   "outputs": [
    {
     "name": "stderr",
     "output_type": "stream",
     "text": [
      "C:\\Users\\gabri\\AppData\\Local\\Temp\\ipykernel_10232\\3036778390.py:12: DtypeWarning: Columns (11,12,17,18,20,21,22,23,25,26,27,28,29,30,31,32,33,36,37,39,40,42,43,44,45,46,47,48,49,50) have mixed types. Specify dtype option on import or set low_memory=False.\n",
      "  df = pd.read_csv('dados/SpSafe_2022.csv', delimiter=';')\n"
     ]
    }
   ],
   "source": [
    "\n",
    "from shapely.geometry import Point\n",
    "import pandas as pd\n",
    "import math\n",
    "import geopandas as gpd\n",
    "import re\n",
    "import numpy as np\n",
    "from rapidfuzz import process, fuzz\n",
    "from sklearn.linear_model import LinearRegression\n",
    "import matplotlib.pyplot as plt\n",
    "from sklearn.metrics import r2_score\n",
    "\n",
    "df = pd.read_csv('dados/SpSafe_2022.csv', delimiter=';')\n",
    "pd.set_option('display.max_columns', None)\n"
   ]
  },
  {
   "cell_type": "markdown",
   "metadata": {},
   "source": [
    "<div style=\"color:Blue; text-align:center;\">\n",
    "<h1>Pergunta: É possível prever a quantidade de crimes anual baseado na quantidade populacional, crimes por 100mil habitantes, IDMH e o índice de Ideb, usando regressão linear?</h1>\n",
    "</div>"
   ]
  },
  {
   "cell_type": "code",
   "execution_count": 4,
   "metadata": {},
   "outputs": [],
   "source": [
    "df_cidades = pd.read_csv('dados/SpSafe_2022_cidades.csv', delimiter=';')\n",
    "idmh = gpd.read_file('dados/teste/IDHM.shp')\n",
    "df_cidades['IDMH'] = 0\n",
    "df_cidades['cod_ibge'] = 0\n",
    "df_cidades['cod_ra'] = 0\n",
    "df_cidades['reg_administrativa'] = 0\n",
    "df_cidades['reg_metropolitanas'] = 0\n",
    "\n",
    "\n",
    "indices = df_cidades[df_cidades[\"QUANTIDADE_POPULACAO\"] == 0].index\n",
    "df_cidades = df_cidades.drop(indices)\n"
   ]
  },
  {
   "cell_type": "markdown",
   "metadata": {},
   "source": [
    "\n",
    "<div style = \"text-align:center\";>\n",
    "    <p>Preparando os dados </p>\n",
    "</div>"
   ]
  },
  {
   "cell_type": "code",
   "execution_count": 15,
   "metadata": {},
   "outputs": [],
   "source": [
    "df_cidades['CIDADE'] = df_cidades['CIDADE'].replace({\n",
    "    'Santo Antônio da Alegria': 'Santo Antonio da Alegria',\n",
    "    'Itaoca': 'Itaóca',\n",
    "    'São Luiz do Paraitinga': 'São Luís do Paraitinga',\n",
    "    'Santo Antônio de Posse':'Santo Antonio de Posse',\n",
    "    'Santo Antônio do Jardim' : 'Santo Antonio do Jardim',\n",
    "    'Mogi Mirim': 'Moji Mirim',\n",
    "    'Tarabai': 'Tarabaí',\n",
    "    'Santa Lúcia': 'Santa Lucia',\n",
    "    'Santa Rosa de Viterbo' : 'Santa Rosa do Viterbo',\n",
    "    'Santo Antônio do Aracanguá' : 'Santo Antonio do Aracanguá',\n",
    "    'Uchoa': 'Uchôa'\n",
    "\n",
    "})\n"
   ]
  },
  {
   "cell_type": "markdown",
   "metadata": {},
   "source": [
    "<div style = \"text-align:center\";>\n",
    "    <p>Dados adquiridos também via fundação SEADE. <p>\n",
    "</div>"
   ]
  },
  {
   "cell_type": "code",
   "execution_count": 5,
   "metadata": {},
   "outputs": [
    {
     "data": {
      "application/vnd.microsoft.datawrangler.viewer.v0+json": {
       "columns": [
        {
         "name": "index",
         "rawType": "int64",
         "type": "integer"
        },
        {
         "name": "cod_ibge",
         "rawType": "int64",
         "type": "integer"
        },
        {
         "name": "municipios",
         "rawType": "object",
         "type": "string"
        },
        {
         "name": "cod_ra",
         "rawType": "object",
         "type": "string"
        },
        {
         "name": "reg_administrativa",
         "rawType": "object",
         "type": "string"
        },
        {
         "name": "reg_metropolitanas",
         "rawType": "object",
         "type": "string"
        },
        {
         "name": "cod_ibge6",
         "rawType": "int64",
         "type": "integer"
        },
        {
         "name": "pop2020",
         "rawType": "object",
         "type": "string"
        },
        {
         "name": "porte_pop2020",
         "rawType": "object",
         "type": "string"
        },
        {
         "name": "cod_drs",
         "rawType": "object",
         "type": "string"
        },
        {
         "name": "drs",
         "rawType": "object",
         "type": "string"
        }
       ],
       "ref": "c405c79c-3127-40ec-ac52-6e65bb23f8ba",
       "rows": [
        [
         "0",
         "3500000",
         "Estado sem especificação",
         "Estado sem especificação",
         "Estado sem especificação",
         "Estado sem especificação",
         "350000",
         "Estado sem especificação",
         "Estado sem especificação",
         "Estado sem especificação",
         "Estado sem especificação"
        ],
        [
         "1",
         "3500105",
         "Adamantina",
         "691",
         "RA de Presidente Prudente",
         "Demais municípios",
         "350010",
         "33894",
         "Mais de 20 mil até 50 mil",
         "5",
         "Marília"
        ],
        [
         "2",
         "3500204",
         "Adolfo",
         "689",
         "RA de São José do Rio Preto",
         "RM São José do Rio Preto",
         "350020",
         "3447",
         "Até 5 mil",
         "15",
         "São José do Rio Preto"
        ],
        [
         "3",
         "3500303",
         "Aguaí",
         "686",
         "RA de Campinas",
         "Demais municípios",
         "350030",
         "35608",
         "Mais de 20 mil até 50 mil",
         "14",
         "São João da Boa Vista"
        ],
        [
         "4",
         "3500402",
         "Águas da Prata",
         "686",
         "RA de Campinas",
         "Demais municípios",
         "350040",
         "7797",
         "Mais de 5 mil até 10 mil",
         "14",
         "São João da Boa Vista"
        ]
       ],
       "shape": {
        "columns": 10,
        "rows": 5
       }
      },
      "text/html": [
       "<div>\n",
       "<style scoped>\n",
       "    .dataframe tbody tr th:only-of-type {\n",
       "        vertical-align: middle;\n",
       "    }\n",
       "\n",
       "    .dataframe tbody tr th {\n",
       "        vertical-align: top;\n",
       "    }\n",
       "\n",
       "    .dataframe thead th {\n",
       "        text-align: right;\n",
       "    }\n",
       "</style>\n",
       "<table border=\"1\" class=\"dataframe\">\n",
       "  <thead>\n",
       "    <tr style=\"text-align: right;\">\n",
       "      <th></th>\n",
       "      <th>cod_ibge</th>\n",
       "      <th>municipios</th>\n",
       "      <th>cod_ra</th>\n",
       "      <th>reg_administrativa</th>\n",
       "      <th>reg_metropolitanas</th>\n",
       "      <th>cod_ibge6</th>\n",
       "      <th>pop2020</th>\n",
       "      <th>porte_pop2020</th>\n",
       "      <th>cod_drs</th>\n",
       "      <th>drs</th>\n",
       "    </tr>\n",
       "  </thead>\n",
       "  <tbody>\n",
       "    <tr>\n",
       "      <th>0</th>\n",
       "      <td>3500000</td>\n",
       "      <td>Estado sem especificação</td>\n",
       "      <td>Estado sem especificação</td>\n",
       "      <td>Estado sem especificação</td>\n",
       "      <td>Estado sem especificação</td>\n",
       "      <td>350000</td>\n",
       "      <td>Estado sem especificação</td>\n",
       "      <td>Estado sem especificação</td>\n",
       "      <td>Estado sem especificação</td>\n",
       "      <td>Estado sem especificação</td>\n",
       "    </tr>\n",
       "    <tr>\n",
       "      <th>1</th>\n",
       "      <td>3500105</td>\n",
       "      <td>Adamantina</td>\n",
       "      <td>691</td>\n",
       "      <td>RA de Presidente Prudente</td>\n",
       "      <td>Demais municípios</td>\n",
       "      <td>350010</td>\n",
       "      <td>33894</td>\n",
       "      <td>Mais de 20 mil até 50 mil</td>\n",
       "      <td>5</td>\n",
       "      <td>Marília</td>\n",
       "    </tr>\n",
       "    <tr>\n",
       "      <th>2</th>\n",
       "      <td>3500204</td>\n",
       "      <td>Adolfo</td>\n",
       "      <td>689</td>\n",
       "      <td>RA de São José do Rio Preto</td>\n",
       "      <td>RM São José do Rio Preto</td>\n",
       "      <td>350020</td>\n",
       "      <td>3447</td>\n",
       "      <td>Até 5 mil</td>\n",
       "      <td>15</td>\n",
       "      <td>São José do Rio Preto</td>\n",
       "    </tr>\n",
       "    <tr>\n",
       "      <th>3</th>\n",
       "      <td>3500303</td>\n",
       "      <td>Aguaí</td>\n",
       "      <td>686</td>\n",
       "      <td>RA de Campinas</td>\n",
       "      <td>Demais municípios</td>\n",
       "      <td>350030</td>\n",
       "      <td>35608</td>\n",
       "      <td>Mais de 20 mil até 50 mil</td>\n",
       "      <td>14</td>\n",
       "      <td>São João da Boa Vista</td>\n",
       "    </tr>\n",
       "    <tr>\n",
       "      <th>4</th>\n",
       "      <td>3500402</td>\n",
       "      <td>Águas da Prata</td>\n",
       "      <td>686</td>\n",
       "      <td>RA de Campinas</td>\n",
       "      <td>Demais municípios</td>\n",
       "      <td>350040</td>\n",
       "      <td>7797</td>\n",
       "      <td>Mais de 5 mil até 10 mil</td>\n",
       "      <td>14</td>\n",
       "      <td>São João da Boa Vista</td>\n",
       "    </tr>\n",
       "  </tbody>\n",
       "</table>\n",
       "</div>"
      ],
      "text/plain": [
       "   cod_ibge                municipios                    cod_ra  \\\n",
       "0   3500000  Estado sem especificação  Estado sem especificação   \n",
       "1   3500105                Adamantina                       691   \n",
       "2   3500204                    Adolfo                       689   \n",
       "3   3500303                     Aguaí                       686   \n",
       "4   3500402            Águas da Prata                       686   \n",
       "\n",
       "            reg_administrativa        reg_metropolitanas  cod_ibge6  \\\n",
       "0     Estado sem especificação  Estado sem especificação     350000   \n",
       "1    RA de Presidente Prudente         Demais municípios     350010   \n",
       "2  RA de São José do Rio Preto  RM São José do Rio Preto     350020   \n",
       "3               RA de Campinas         Demais municípios     350030   \n",
       "4               RA de Campinas         Demais municípios     350040   \n",
       "\n",
       "                    pop2020              porte_pop2020  \\\n",
       "0  Estado sem especificação   Estado sem especificação   \n",
       "1                     33894  Mais de 20 mil até 50 mil   \n",
       "2                      3447                  Até 5 mil   \n",
       "3                     35608  Mais de 20 mil até 50 mil   \n",
       "4                      7797   Mais de 5 mil até 10 mil   \n",
       "\n",
       "                    cod_drs                       drs  \n",
       "0  Estado sem especificação  Estado sem especificação  \n",
       "1                         5                   Marília  \n",
       "2                        15     São José do Rio Preto  \n",
       "3                        14     São João da Boa Vista  \n",
       "4                        14     São João da Boa Vista  "
      ]
     },
     "execution_count": 5,
     "metadata": {},
     "output_type": "execute_result"
    }
   ],
   "source": [
    "exm = pd.read_csv(\"dados/teste/codigos_municipios_regioes.csv\", encoding=\"latin1\", delimiter=\";\")\n",
    "exm.head()\n"
   ]
  },
  {
   "cell_type": "code",
   "execution_count": 6,
   "metadata": {},
   "outputs": [
    {
     "data": {
      "application/vnd.microsoft.datawrangler.viewer.v0+json": {
       "columns": [
        {
         "name": "index",
         "rawType": "int64",
         "type": "integer"
        },
        {
         "name": "CIDADE",
         "rawType": "object",
         "type": "string"
        },
        {
         "name": "QUANTIDADE_CRIMES",
         "rawType": "int64",
         "type": "integer"
        },
        {
         "name": "QUANTIDADE_POPULACAO",
         "rawType": "int64",
         "type": "integer"
        },
        {
         "name": "CRIMES_POR_100K",
         "rawType": "float64",
         "type": "float"
        },
        {
         "name": "IDMH",
         "rawType": "int64",
         "type": "integer"
        },
        {
         "name": "cod_ibge",
         "rawType": "int64",
         "type": "integer"
        },
        {
         "name": "cod_ra",
         "rawType": "int64",
         "type": "integer"
        },
        {
         "name": "reg_administrativa",
         "rawType": "int64",
         "type": "integer"
        },
        {
         "name": "reg_metropolitanas",
         "rawType": "int64",
         "type": "integer"
        }
       ],
       "ref": "5b15b056-0275-44cc-9737-941e4d2c68a7",
       "rows": [
        [
         "0",
         "São Paulo",
         "251285",
         "11429865",
         "2198.0",
         "0",
         "0",
         "0",
         "0",
         "0"
        ],
        [
         "1",
         "Santo André",
         "16033",
         "752784",
         "2130.0",
         "0",
         "0",
         "0",
         "0",
         "0"
        ],
        [
         "2",
         "Campinas",
         "13731",
         "1140133",
         "1204.0",
         "0",
         "0",
         "0",
         "0",
         "0"
        ],
        [
         "3",
         "Guarulhos",
         "12815",
         "1293335",
         "991.0",
         "0",
         "0",
         "0",
         "0",
         "0"
        ],
        [
         "4",
         "São Bernardo do Campo",
         "11086",
         "811198",
         "1367.0",
         "0",
         "0",
         "0",
         "0",
         "0"
        ]
       ],
       "shape": {
        "columns": 9,
        "rows": 5
       }
      },
      "text/html": [
       "<div>\n",
       "<style scoped>\n",
       "    .dataframe tbody tr th:only-of-type {\n",
       "        vertical-align: middle;\n",
       "    }\n",
       "\n",
       "    .dataframe tbody tr th {\n",
       "        vertical-align: top;\n",
       "    }\n",
       "\n",
       "    .dataframe thead th {\n",
       "        text-align: right;\n",
       "    }\n",
       "</style>\n",
       "<table border=\"1\" class=\"dataframe\">\n",
       "  <thead>\n",
       "    <tr style=\"text-align: right;\">\n",
       "      <th></th>\n",
       "      <th>CIDADE</th>\n",
       "      <th>QUANTIDADE_CRIMES</th>\n",
       "      <th>QUANTIDADE_POPULACAO</th>\n",
       "      <th>CRIMES_POR_100K</th>\n",
       "      <th>IDMH</th>\n",
       "      <th>cod_ibge</th>\n",
       "      <th>cod_ra</th>\n",
       "      <th>reg_administrativa</th>\n",
       "      <th>reg_metropolitanas</th>\n",
       "    </tr>\n",
       "  </thead>\n",
       "  <tbody>\n",
       "    <tr>\n",
       "      <th>0</th>\n",
       "      <td>São Paulo</td>\n",
       "      <td>251285</td>\n",
       "      <td>11429865</td>\n",
       "      <td>2198.0</td>\n",
       "      <td>0</td>\n",
       "      <td>0</td>\n",
       "      <td>0</td>\n",
       "      <td>0</td>\n",
       "      <td>0</td>\n",
       "    </tr>\n",
       "    <tr>\n",
       "      <th>1</th>\n",
       "      <td>Santo André</td>\n",
       "      <td>16033</td>\n",
       "      <td>752784</td>\n",
       "      <td>2130.0</td>\n",
       "      <td>0</td>\n",
       "      <td>0</td>\n",
       "      <td>0</td>\n",
       "      <td>0</td>\n",
       "      <td>0</td>\n",
       "    </tr>\n",
       "    <tr>\n",
       "      <th>2</th>\n",
       "      <td>Campinas</td>\n",
       "      <td>13731</td>\n",
       "      <td>1140133</td>\n",
       "      <td>1204.0</td>\n",
       "      <td>0</td>\n",
       "      <td>0</td>\n",
       "      <td>0</td>\n",
       "      <td>0</td>\n",
       "      <td>0</td>\n",
       "    </tr>\n",
       "    <tr>\n",
       "      <th>3</th>\n",
       "      <td>Guarulhos</td>\n",
       "      <td>12815</td>\n",
       "      <td>1293335</td>\n",
       "      <td>991.0</td>\n",
       "      <td>0</td>\n",
       "      <td>0</td>\n",
       "      <td>0</td>\n",
       "      <td>0</td>\n",
       "      <td>0</td>\n",
       "    </tr>\n",
       "    <tr>\n",
       "      <th>4</th>\n",
       "      <td>São Bernardo do Campo</td>\n",
       "      <td>11086</td>\n",
       "      <td>811198</td>\n",
       "      <td>1367.0</td>\n",
       "      <td>0</td>\n",
       "      <td>0</td>\n",
       "      <td>0</td>\n",
       "      <td>0</td>\n",
       "      <td>0</td>\n",
       "    </tr>\n",
       "  </tbody>\n",
       "</table>\n",
       "</div>"
      ],
      "text/plain": [
       "                  CIDADE  QUANTIDADE_CRIMES  QUANTIDADE_POPULACAO  \\\n",
       "0              São Paulo             251285              11429865   \n",
       "1            Santo André              16033                752784   \n",
       "2               Campinas              13731               1140133   \n",
       "3              Guarulhos              12815               1293335   \n",
       "4  São Bernardo do Campo              11086                811198   \n",
       "\n",
       "   CRIMES_POR_100K  IDMH  cod_ibge  cod_ra  reg_administrativa  \\\n",
       "0           2198.0     0         0       0                   0   \n",
       "1           2130.0     0         0       0                   0   \n",
       "2           1204.0     0         0       0                   0   \n",
       "3            991.0     0         0       0                   0   \n",
       "4           1367.0     0         0       0                   0   \n",
       "\n",
       "   reg_metropolitanas  \n",
       "0                   0  \n",
       "1                   0  \n",
       "2                   0  \n",
       "3                   0  \n",
       "4                   0  "
      ]
     },
     "execution_count": 6,
     "metadata": {},
     "output_type": "execute_result"
    }
   ],
   "source": [
    "df_cidades.head()"
   ]
  },
  {
   "cell_type": "code",
   "execution_count": 16,
   "metadata": {},
   "outputs": [],
   "source": [
    "for indice, linha in df_cidades.iterrows():\n",
    "    for indice_e, linha_e in exm.iterrows():\n",
    "        if(linha['CIDADE'] == linha_e['municipios']):\n",
    "            df_cidades.at[indice, 'cod_ibge'] = linha_e['cod_ibge']\n",
    "            df_cidades.at[indice, 'cod_ra'] = linha_e['cod_ra']\n",
    "            df_cidades.at[indice, 'reg_administrativa'] = linha_e['reg_administrativa']\n",
    "            df_cidades.at[indice, 'reg_metropolitanas'] = linha_e['reg_metropolitanas']\n",
    "          "
   ]
  },
  {
   "cell_type": "code",
   "execution_count": 13,
   "metadata": {},
   "outputs": [
    {
     "name": "stderr",
     "output_type": "stream",
     "text": [
      "C:\\Users\\gabri\\AppData\\Local\\Temp\\ipykernel_10232\\1660612305.py:4: FutureWarning: Setting an item of incompatible dtype is deprecated and will raise an error in a future version of pandas. Value '0.8' has dtype incompatible with int64, please explicitly cast to a compatible dtype first.\n",
      "  df_cidades.at[indice, 'IDMH'] = linha_idmh['IDMH']\n"
     ]
    }
   ],
   "source": [
    "for indice, linha in df_cidades.iterrows():\n",
    "    for indice_idmh, linha_idmh in idmh.iterrows():\n",
    "        if linha['cod_ibge'] == linha_idmh['Cod_ibge']:\n",
    "            df_cidades.at[indice, 'IDMH'] = linha_idmh['IDMH']\n",
    "            break"
   ]
  },
  {
   "cell_type": "code",
   "execution_count": 31,
   "metadata": {},
   "outputs": [],
   "source": [
    "ideb = pd.read_csv('educacaoideb.csv', delimiter=';', encoding='latin1')\n",
    "df_cidades['ideb2019'] = 0\n",
    "ideb['Cod'] = ideb['Cod'].dropna().astype(int)"
   ]
  },
  {
   "cell_type": "code",
   "execution_count": null,
   "metadata": {},
   "outputs": [],
   "source": [
    "for indice, linha in df_cidades.iterrows():\n",
    "    for indice_ideb, linha_ideb in ideb.iterrows():\n",
    "        if linha['cod_ibge'] == linha_ideb['Cod']:\n",
    "            if linha_ideb['Rede'] == 'PÃºblica':\n",
    "                df_cidades.at[indice, 'ideb2019'] = linha_ideb['IDEB 2019']\n",
    "                break\n"
   ]
  },
  {
   "cell_type": "code",
   "execution_count": 39,
   "metadata": {},
   "outputs": [],
   "source": [
    "for indice, linha in df_cidades.iterrows():\n",
    "    if pd.isna(linha['ideb2019']):\n",
    "        df_cidades.at[indice, 'ideb2019'] = 0"
   ]
  },
  {
   "cell_type": "code",
   "execution_count": 55,
   "metadata": {},
   "outputs": [],
   "source": [
    "df_cidades_encoded = pd.get_dummies(df_cidades, columns=[\"CIDADE\"])\n"
   ]
  },
  {
   "cell_type": "code",
   "execution_count": 40,
   "metadata": {},
   "outputs": [],
   "source": [
    "df_cidades.to_csv('SpSafe_2022_cidades.csv', index=False)"
   ]
  },
  {
   "cell_type": "markdown",
   "metadata": {},
   "source": [
    "<div style = \"text-align:center\";>\n",
    "    <p>Criando a o modelo baseado nos dados adquiridos <p>\n",
    "</div>"
   ]
  },
  {
   "cell_type": "code",
   "execution_count": 57,
   "metadata": {},
   "outputs": [
    {
     "data": {
      "application/vnd.microsoft.datawrangler.viewer.v0+json": {
       "columns": [
        {
         "name": "index",
         "rawType": "int64",
         "type": "integer"
        },
        {
         "name": "Coeficiente (a)",
         "rawType": "float64",
         "type": "float"
        },
        {
         "name": "Intercepto (b)",
         "rawType": "float64",
         "type": "float"
        },
        {
         "name": "R² (teste)",
         "rawType": "float64",
         "type": "float"
        },
        {
         "name": "Erro médio quadrático (MSE)",
         "rawType": "float64",
         "type": "float"
        }
       ],
       "ref": "6e9c98e3-ee80-4c79-9fca-63d40d70e92e",
       "rows": [
        [
         "0",
         "0.02",
         "4656.43",
         "0.32",
         "1384953.28"
        ]
       ],
       "shape": {
        "columns": 4,
        "rows": 1
       }
      },
      "text/html": [
       "<div>\n",
       "<style scoped>\n",
       "    .dataframe tbody tr th:only-of-type {\n",
       "        vertical-align: middle;\n",
       "    }\n",
       "\n",
       "    .dataframe tbody tr th {\n",
       "        vertical-align: top;\n",
       "    }\n",
       "\n",
       "    .dataframe thead th {\n",
       "        text-align: right;\n",
       "    }\n",
       "</style>\n",
       "<table border=\"1\" class=\"dataframe\">\n",
       "  <thead>\n",
       "    <tr style=\"text-align: right;\">\n",
       "      <th></th>\n",
       "      <th>Coeficiente (a)</th>\n",
       "      <th>Intercepto (b)</th>\n",
       "      <th>R² (teste)</th>\n",
       "      <th>Erro médio quadrático (MSE)</th>\n",
       "    </tr>\n",
       "  </thead>\n",
       "  <tbody>\n",
       "    <tr>\n",
       "      <th>0</th>\n",
       "      <td>0.02</td>\n",
       "      <td>4656.43</td>\n",
       "      <td>0.32</td>\n",
       "      <td>1384953.28</td>\n",
       "    </tr>\n",
       "  </tbody>\n",
       "</table>\n",
       "</div>"
      ],
      "text/plain": [
       "   Coeficiente (a)  Intercepto (b)  R² (teste)  Erro médio quadrático (MSE)\n",
       "0             0.02         4656.43        0.32                   1384953.28"
      ]
     },
     "metadata": {},
     "output_type": "display_data"
    }
   ],
   "source": [
    "\n",
    "from sklearn.model_selection import train_test_split\n",
    "from sklearn.linear_model import LinearRegression\n",
    "from sklearn.metrics import mean_squared_error, r2_score\n",
    "import matplotlib.pyplot as plt\n",
    "import seaborn as sns\n",
    "import pandas as pd\n",
    "\n",
    "# Estilo dos gráficos\n",
    "sns.set(style=\"whitegrid\")\n",
    "\n",
    "# Remover linhas com valores infinitos ou NaN\n",
    "df_cidades_clean = df_cidades.replace([np.inf, -np.inf], np.nan).dropna(subset=['QUANTIDADE_POPULACAO', 'CRIMES_POR_100K', 'QUANTIDADE_CRIMES'])\n",
    "\n",
    "# Separar variáveis\n",
    "X = df_cidades_clean[['QUANTIDADE_POPULACAO', 'CRIMES_POR_100K', 'IDMH', 'ideb2019']]\n",
    "y = df_cidades_clean['QUANTIDADE_CRIMES']\n",
    "\n",
    "# Dividir em treino (80%) e teste (20%)\n",
    "X_train, X_test, y_train, y_test = train_test_split(X, y, test_size=0.2, random_state=42)\n",
    "\n",
    "# Treinar o modelo com os dados de treino\n",
    "model = LinearRegression()\n",
    "model.fit(X_train, y_train)\n",
    "\n",
    "# Fazer previsões no conjunto de teste\n",
    "y_pred = model.predict(X_test)\n",
    "\n",
    "# Avaliação\n",
    "resultados = {\n",
    "    \"Coeficiente (a)\": [model.coef_[0]],\n",
    "    \"Intercepto (b)\": [model.intercept_],\n",
    "    \"R² (teste)\": [r2_score(y_test, y_pred)],\n",
    "    \"Erro médio quadrático (MSE)\": [mean_squared_error(y_test, y_pred)]\n",
    "}\n",
    "\n",
    "tabela_resultados = pd.DataFrame(resultados)\n",
    "display(tabela_resultados.round(2))\n"
   ]
  }
 ],
 "metadata": {
  "kernelspec": {
   "display_name": "Python 3",
   "language": "python",
   "name": "python3"
  },
  "language_info": {
   "codemirror_mode": {
    "name": "ipython",
    "version": 3
   },
   "file_extension": ".py",
   "mimetype": "text/x-python",
   "name": "python",
   "nbconvert_exporter": "python",
   "pygments_lexer": "ipython3",
   "version": "3.13.2"
  }
 },
 "nbformat": 4,
 "nbformat_minor": 2
}
