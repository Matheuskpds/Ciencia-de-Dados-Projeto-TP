{
 "cells": [
  {
   "metadata": {
    "ExecuteTime": {
     "end_time": "2025-03-31T05:12:47.314653Z",
     "start_time": "2025-03-31T05:12:42.789629Z"
    }
   },
   "cell_type": "code",
   "source": [
    "import json\n",
    "\n",
    "import pandas as pd\n",
    "import numpy as np\n",
    "df = pd.read_csv('dados/SpSafe_2022.csv', delimiter=';')\n",
    "pd.set_option('display.max_columns', None)\n"
   ],
   "outputs": [
    {
     "name": "stderr",
     "output_type": "stream",
     "text": [
      "C:\\Users\\gabri\\AppData\\Local\\Temp\\ipykernel_28244\\1362543878.py:3: DtypeWarning: Columns (8,11,12,17,18,20,21,22,23,25,26,27,28,29,30,31,32,33,36,37,39,40,42,43,44,45,46,47,48,49,50) have mixed types. Specify dtype option on import or set low_memory=False.\n",
      "  df = pd.read_csv('dados/SpSafe_2022.csv', delimiter=';')\n"
     ]
    }
   ],
   "execution_count": 1
  },
  {
   "metadata": {},
   "cell_type": "markdown",
   "source": ""
  },
  {
   "metadata": {},
   "cell_type": "markdown",
   "source": [
    "<h2 align=\"center\">\n",
    "  Código criados para localizar as cidades dos dados via latitude e longitude\n",
    "</h2>\n"
   ]
  },
  {
   "metadata": {},
   "cell_type": "markdown",
   "source": [
    "<div style = \"text-align: center;\">\n",
    "<strong>tempo de processamento longo por causa da API da biblioteca geopy</strong>\n",
    "</div>\n"
   ]
  },
  {
   "metadata": {
    "ExecuteTime": {
     "end_time": "2025-03-31T05:12:50.528105Z",
     "start_time": "2025-03-31T05:12:50.361774Z"
    }
   },
   "cell_type": "code",
   "source": [
    "# Biblioteca usada para localizar o nome da cidade via latitude e longitude\n",
    "from geopy.geocoders import Nominatim\n",
    "geolocal = Nominatim(user_agent=\"tpDados\")\n"
   ],
   "outputs": [],
   "execution_count": 2
  },
  {
   "metadata": {},
   "cell_type": "markdown",
   "source": [
    "<p align=\"center\">\n",
    "  Convertendo o tipo da coluna cidade para objeto por questões de compatibilidade com o geopy\n",
    "  \n",
    "</p>"
   ]
  },
  {
   "metadata": {},
   "cell_type": "code",
   "outputs": [],
   "execution_count": null,
   "source": "df[\"CIDADE\"] = df[\"CIDADE\"].astype(\"object\")"
  },
  {
   "metadata": {},
   "cell_type": "code",
   "source": [
    "for indice, linha in df.iterrows():\n",
    "    if pd.isna(linha[\"LATITUDE\"]) and pd.isna(linha[\"LONGITUDE\"]):\n",
    "        continue\n",
    "    if pd.isna(linha[\"CIDADE\"]) and pd.notna(linha[\"LATITUDE\"]) and pd.notna(linha[\"LONGITUDE\"]):\n",
    "        try:\n",
    "            lat = linha[\"LATITUDE\"]  # Pega a latitude da linha atual\n",
    "            long = linha[\"LONGITUDE\"]  # Pega a longitude da linha atual\n",
    "            local = geolocal.reverse(f\"{lat}, {long}\")\n",
    "            \n",
    "            # Tenta pegar \"city\", se não existir, tenta \"town\", se não existir, preenche com NaN\n",
    "            df.at[indice, \"CIDADE\"] = local.raw[\"address\"].get(\"city\") or local.raw[\"address\"].get(\"town\", np.nan)\n",
    "        except ValueError:\n",
    "            df.at[indice, \"CIDADE\"] = np.nan\n",
    "\n"
   ],
   "outputs": [],
   "execution_count": null
  },
  {
   "metadata": {},
   "cell_type": "markdown",
   "source": [
    "<p align=\"center\">\n",
    "  Comando para salvar o DataFrame em um arquivo csv\n",
    "</p>"
   ]
  },
  {
   "metadata": {
    "ExecuteTime": {
     "end_time": "2025-03-31T03:32:08.395370Z",
     "start_time": "2025-03-31T03:32:00.142796Z"
    }
   },
   "cell_type": "code",
   "outputs": [],
   "execution_count": 164,
   "source": "df.to_csv('dados/SpSafe_2022.csv', index=False, sep=';', encoding='utf-8')"
  },
  {
   "metadata": {},
   "cell_type": "code",
   "source": [
    "cache_geolocal = {}\n",
    "for indice, linha in df.iterrows():\n",
    "    if pd.isna(linha[\"LATITUDE\"]) and pd.isna(linha[\"LONGITUDE\"]):\n",
    "        continue\n",
    "    if pd.isna(linha[\"CIDADE\"]) and pd.notna(linha[\"LATITUDE\"]) and pd.notna(linha[\"LONGITUDE\"]):\n",
    "        lat_long = (linha[\"LATITUDE\"], linha[\"LONGITUDE\"])\n",
    "        if lat_long in cache_geolocal:\n",
    "            df.at[indice, \"CIDADE\"] = cache_geolocal[lat_long]\n",
    "        else:\n",
    "            try:\n",
    "                local = geolocal.reverse(f\"{lat_long[0]}, {lat_long[1]}\")\n",
    "                cidade = local.raw[\"address\"].get(\"city\") or local.raw[\"address\"].get(\"town\", np.nan)\n",
    "                df.at[indice, \"CIDADE\"] = cidade\n",
    "                cache_geolocal[lat_long] = cidade\n",
    "            except ValueError:\n",
    "                df.at[indice, \"CIDADE\"] = np.nan\n",
    "                \n",
    "df.to_csv('dados/SpSafe_2022.csv', index=False, sep=';', encoding='utf-8')"
   ],
   "outputs": [],
   "execution_count": null
  },
  {
   "metadata": {
    "ExecuteTime": {
     "end_time": "2025-03-31T13:52:57.429895Z",
     "start_time": "2025-03-31T13:52:57.407657Z"
    }
   },
   "cell_type": "code",
   "source": [
    "import pickle\n",
    "\n",
    "#Salvar cache de local\n",
    "with open(\"cache_geolocal.pkl\", \"wb\") as f:\n",
    "    pickle.dump(cache_geolocal, f)\n",
    "\n",
    "\n",
    "\n",
    "#Salvar indice\n",
    "with open(\"indice.pkl\", \"wb\") as l:\n",
    "    pickle.dump(indice, l)\n",
    "    \n"
   ],
   "outputs": [],
   "execution_count": 13
  }
 ],
 "metadata": {
  "kernelspec": {
   "display_name": "Python 3",
   "language": "python",
   "name": "python3"
  },
  "language_info": {
   "codemirror_mode": {
    "name": "ipython",
    "version": 3
   },
   "file_extension": ".py",
   "mimetype": "text/x-python",
   "name": "python",
   "nbconvert_exporter": "python",
   "pygments_lexer": "ipython3",
   "version": "3.12.0"
  }
 },
 "nbformat": 4,
 "nbformat_minor": 2
}
