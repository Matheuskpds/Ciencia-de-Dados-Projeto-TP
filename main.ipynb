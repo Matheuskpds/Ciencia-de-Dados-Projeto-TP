{
 "cells": [
  {
   "metadata": {},
   "cell_type": "code",
   "outputs": [],
   "execution_count": null,
   "source": [
    "import pandas as pd\n",
    "import numpy as np\n",
    "df = pd.read_csv('dados/SpSafe_2022.csv', delimiter=';')\n",
    "pd.set_option('display.max_columns', None)\n"
   ]
  },
  {
   "metadata": {},
   "cell_type": "markdown",
   "source": ""
  },
  {
   "metadata": {},
   "cell_type": "markdown",
   "source": [
    "<h2 align=\"center\">\n",
    "  Código criados para localizar as cidades dos dados via latitude e longitude\n",
    "</h2>\n"
   ]
  },
  {
   "metadata": {},
   "cell_type": "markdown",
   "source": [
    "<p align=\"center\">\n",
    "  Executar somente para o arquivo csv baixado via Google Drive\n",
    "</p>\n"
   ]
  },
  {
   "metadata": {},
   "cell_type": "markdown",
   "source": [
    "<div style = \"text-align: center;\">\n",
    "<strong>tempo de processamento longo por causa da API da biblioteca geopy</strong>\n",
    "</div>\n"
   ]
  },
  {
   "metadata": {
    "ExecuteTime": {
     "end_time": "2025-03-30T21:42:53.735463Z",
     "start_time": "2025-03-30T21:42:53.270230Z"
    }
   },
   "cell_type": "code",
   "source": [
    "# Biblioteca usada para localizar o nome da cidade via latitude e longitude\n",
    "from geopy.geocoders import Nominatim\n",
    "geolocal = Nominatim(user_agent=\"tpDados\")\n"
   ],
   "outputs": [],
   "execution_count": 2
  },
  {
   "metadata": {},
   "cell_type": "markdown",
   "source": [
    "<p align=\"center\">\n",
    "  Convertendo o tipo da coluna cidade para objeto por questões de compatibilidade com o geopy\n",
    "  \n",
    "</p>"
   ]
  },
  {
   "metadata": {},
   "cell_type": "code",
   "outputs": [],
   "execution_count": null,
   "source": "df[\"CIDADE\"] = df[\"CIDADE\"].astype(\"object\")"
  },
  {
   "metadata": {},
   "cell_type": "code",
   "source": [
    "for indice, linha in df.iterrows():\n",
    "    if pd.isna(linha[\"LATITUDE\"]) and pd.isna(linha[\"LONGITUDE\"]):\n",
    "        continue\n",
    "    if pd.isna(linha[\"CIDADE\"]) and pd.notna(linha[\"LATITUDE\"]) and pd.notna(linha[\"LONGITUDE\"]):\n",
    "        try:\n",
    "            lat = linha[\"LATITUDE\"]  # Pega a latitude da linha atual\n",
    "            long = linha[\"LONGITUDE\"]  # Pega a longitude da linha atual\n",
    "            local = geolocal.reverse(f\"{lat}, {long}\")\n",
    "            \n",
    "            # Tenta pegar \"city\", se não existir, tenta \"town\", se não existir, preenche com NaN\n",
    "            df.at[indice, \"CIDADE\"] = local.raw[\"address\"].get(\"city\") or local.raw[\"address\"].get(\"town\", np.nan)\n",
    "        except ValueError:\n",
    "            erro_df.loc[len(erro_df)] = [indice, lat, long]\n",
    "            df.at[indice, \"CIDADE\"] = np.nan\n",
    "\n"
   ],
   "outputs": [],
   "execution_count": null
  },
  {
   "metadata": {},
   "cell_type": "markdown",
   "source": [
    "<p align=\"center\">\n",
    "  Comando para salvar o DataFrame em um arquivo csv\n",
    "</p>"
   ]
  },
  {
   "metadata": {
    "ExecuteTime": {
     "end_time": "2025-03-31T03:32:08.395370Z",
     "start_time": "2025-03-31T03:32:00.142796Z"
    }
   },
   "cell_type": "code",
   "outputs": [],
   "execution_count": 164,
   "source": "df.to_csv('dados/SpSafe_2022.csv', index=False, sep=';', encoding='utf-8')"
  },
  {
   "metadata": {},
   "cell_type": "markdown",
   "source": [
    "<p align=\"center\">\n",
    "  \n",
    "</p>"
   ]
  },
  {
   "metadata": {
    "ExecuteTime": {
     "end_time": "2025-03-31T01:17:41.138758Z",
     "start_time": "2025-03-31T01:17:41.130948Z"
    }
   },
   "cell_type": "code",
   "outputs": [
    {
     "data": {
      "text/plain": [
       "Indice       object\n",
       "Latitude     object\n",
       "Longitude    object\n",
       "dtype: object"
      ]
     },
     "execution_count": 162,
     "metadata": {},
     "output_type": "execute_result"
    }
   ],
   "execution_count": 162,
   "source": [
    "erro_df = pd.DataFrame(columns= [\"Indice\", \"Latitude\", \"Longitude\"] )\n",
    "erro_df.dtypes\n"
   ]
  },
  {
   "metadata": {
    "ExecuteTime": {
     "end_time": "2025-03-31T03:42:11.938170Z",
     "start_time": "2025-03-31T03:42:11.928470Z"
    }
   },
   "cell_type": "code",
   "source": [
    "ultimo = pd.DataFrame(columns= [\"Ultimo Indice\"])\n",
    "\n",
    "ultimo.loc[len(ultimo)] = indice\n",
    "\n",
    "ultimo.loc[0]\n",
    "\n",
    "ultimo.to_csv('dados/ultimoIndice.csv', index=False, sep=';', encoding='utf-8')\n"
   ],
   "outputs": [],
   "execution_count": 174
  },
  {
   "metadata": {
    "ExecuteTime": {
     "end_time": "2025-03-31T03:32:13.589225Z",
     "start_time": "2025-03-31T03:32:13.553818Z"
    }
   },
   "cell_type": "code",
   "source": [
    "\n",
    "erro_df.to_csv('dados/erros.csv', index=False, sep=';', encoding='utf-8')"
   ],
   "outputs": [],
   "execution_count": 165
  }
 ],
 "metadata": {
  "kernelspec": {
   "display_name": "Python 3",
   "language": "python",
   "name": "python3"
  },
  "language_info": {
   "codemirror_mode": {
    "name": "ipython",
    "version": 3
   },
   "file_extension": ".py",
   "mimetype": "text/x-python",
   "name": "python",
   "nbconvert_exporter": "python",
   "pygments_lexer": "ipython3",
   "version": "3.12.0"
  }
 },
 "nbformat": 4,
 "nbformat_minor": 2
}
