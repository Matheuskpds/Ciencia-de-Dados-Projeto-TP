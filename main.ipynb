{
 "cells": [
  {
   "cell_type": "markdown",
   "metadata": {},
   "source": "<H2 align=\"center\"> Baixar o arquivo csv, caso não tenha baixado o arquivo via github:</H2>\n"
  },
  {
   "cell_type": "code",
   "metadata": {},
   "source": [
    "import subprocess\n",
    "import sys\n",
    "\n",
    "# Tenta importar gdown, se não conseguir, instala\n",
    "try:\n",
    "    import gdown\n",
    "except ImportError:\n",
    "    print(\"📥 gdown não encontrado. Instalando automaticamente...\")\n",
    "    subprocess.check_call([sys.executable, \"-m\", \"pip\", \"install\", \"gdown\"])\n",
    "    import gdown  # Tenta importar novamente após a instalação\n",
    "\n",
    "# Baixar o arquivo do Google Drive\n",
    "\n",
    "file_id = \"1VbB_fvowkgNoWcLADi1mEfFjWQI6nBjp\"\n",
    "url = f\"https://drive.google.com/uc?id={file_id}\"\n",
    "output = \"dados/SpSafe_2022.csv\"\n",
    "\n",
    "gdown.download(url, output, quiet=False)\n"
   ],
   "outputs": [],
   "execution_count": null
  },
  {
   "cell_type": "markdown",
   "metadata": {},
   "source": [
    "<p align=\"center\">\n",
    "  Leitura do arquivo\n",
    "</p>"
   ]
  },
  {
   "cell_type": "code",
   "metadata": {},
   "source": [
    "import pandas as pd\n",
    "import numpy as np\n",
    "df = pd.read_csv('dados/SpSafe_2022.csv', delimiter=';')\n",
    "pd.set_option('display.max_columns', None)\n"
   ],
   "outputs": [],
   "execution_count": null
  },
  {
   "metadata": {},
   "cell_type": "markdown",
   "source": [
    "<H2 align=\"center\"> Códigos criados para adicionar uma coluna com os atributos dia da semana. </H2>\n",
    " "
   ]
  },
  {
   "metadata": {},
   "cell_type": "markdown",
   "source": [
    "<P aling = \"center\">  </P>\n",
    "<p align=\"center\">\n",
    "  Executar somente quando um novo arquivo for baixado do Google Drive\n",
    "</p>\n",
    "\n"
   ]
  },
  {
   "metadata": {},
   "cell_type": "markdown",
   "source": ""
  },
  {
   "cell_type": "code",
   "metadata": {
    "ExecuteTime": {
     "end_time": "2025-03-29T02:44:53.743629Z",
     "start_time": "2025-03-29T02:44:53.684912Z"
    }
   },
   "source": [
    "#Conventendo a coluna DATA_OCORRENCIA para datetime para ser reconhecido como data pelo pandas\n",
    "df['DATA_OCORRENCIA'] = pd.to_datetime(df['DATA_OCORRENCIA'])"
   ],
   "outputs": [],
   "execution_count": 41
  },
  {
   "cell_type": "code",
   "metadata": {},
   "source": [
    "#Criação de coluna com o dia da semana\n",
    "df.insert(df.columns.get_loc('DATA_OCORRENCIA') + 1, 'DIA_SEMANA', df['DATA_OCORRENCIA'].dt.day_name())"
   ],
   "outputs": [],
   "execution_count": null
  },
  {
   "cell_type": "code",
   "metadata": {
    "ExecuteTime": {
     "end_time": "2025-03-29T02:44:59.246077Z",
     "start_time": "2025-03-29T02:44:59.110796Z"
    }
   },
   "source": [
    "#Convertendo os dias da semana para português\n",
    "dias_semana = {\n",
    "    'Monday': 'SEGUNDA-FEIRA', 'Tuesday': 'TERÇA-FEIRA', 'Wednesday': 'QUARTA-FEIRA',\n",
    "    'Thursday': 'QUINTA-FEIRA', 'Friday': 'SEXTA-FEIRA', 'Saturday': 'SÁBADO', 'Sunday': 'DOMINGO'\n",
    "}\n",
    "df['DIA_SEMANA'] = df['DATA_OCORRENCIA'].dt.day_name().map(dias_semana)\n"
   ],
   "outputs": [],
   "execution_count": 43
  },
  {
   "cell_type": "code",
   "metadata": {},
   "source": "df.head(20)",
   "outputs": [],
   "execution_count": null
  },
  {
   "metadata": {},
   "cell_type": "markdown",
   "source": [
    "<h2 align=\"center\">\n",
    "  Código criados para localizar as cidades dos dados via latitude e longitude\n",
    "</h2>\n"
   ]
  },
  {
   "metadata": {},
   "cell_type": "markdown",
   "source": [
    "<p align=\"center\">\n",
    "  Executar somente para o arquivo csv baixado via Google Drive\n",
    "</p>\n"
   ]
  },
  {
   "metadata": {},
   "cell_type": "markdown",
   "source": [
    "<div style = \"text-align: center;\">\n",
    "<strong>tempo de processamento longo por causa da API da biblioteca geopy</strong>\n",
    "</div>\n"
   ]
  },
  {
   "metadata": {
    "ExecuteTime": {
     "end_time": "2025-03-28T20:05:38.384638Z",
     "start_time": "2025-03-28T20:05:38.320361Z"
    }
   },
   "cell_type": "code",
   "source": [
    "# Biblioteca usada para localizar o nome da cidade via latitude e longitude\n",
    "from geopy.geocoders import Nominatim\n",
    "geolocal = Nominatim(user_agent=\"tpDados\")\n"
   ],
   "outputs": [],
   "execution_count": 9
  },
  {
   "metadata": {},
   "cell_type": "code",
   "source": [
    "# Código criado para preencher a coluna com o nome da cidade conforme latitude e longitude\n",
    "for indice, linha in df.iterrows():\n",
    "    if linha[\"LATITUDE\"].notna() & linha[\"LONGITUDE\"].notna() & linha[\"CIDADE\"].notna():\n",
    "        continue\n",
    "    if pd.isna(linha[\"LATITUDE\"]) or pd.isna(linha[\"LONGITUDE\"]):  \n",
    "        df.at[indice, \"CIDADE\"] = np.nan  \n",
    "    else:\n",
    "        latitude = linha[\"LATITUDE\"]\n",
    "        longitude = linha[\"LONGITUDE\"]\n",
    "        local = geolocal.reverse(f\"{latitude}, {longitude}\")\n",
    "        df.at[indice, \"CIDADE\"] = local.raw[\"address\"].get(\"city\", np.nan)  \n",
    "\n",
    "\n",
    "\n",
    "    "
   ],
   "outputs": [],
   "execution_count": null
  },
  {
   "metadata": {},
   "cell_type": "markdown",
   "source": [
    "<p align=\"center\">\n",
    "  Comando para salvar o DataFrame em um arquivo csv\n",
    "</p>"
   ]
  },
  {
   "metadata": {
    "ExecuteTime": {
     "end_time": "2025-03-29T03:15:56.369406Z",
     "start_time": "2025-03-29T03:15:48.734842Z"
    }
   },
   "cell_type": "code",
   "source": "df.to_csv('dados/SpSafe_2022.csv', index=False, sep=';', encoding='utf-8')",
   "outputs": [],
   "execution_count": 55
  }
 ],
 "metadata": {
  "kernelspec": {
   "display_name": "Python 3",
   "language": "python",
   "name": "python3"
  },
  "language_info": {
   "codemirror_mode": {
    "name": "ipython",
    "version": 3
   },
   "file_extension": ".py",
   "mimetype": "text/x-python",
   "name": "python",
   "nbconvert_exporter": "python",
   "pygments_lexer": "ipython3",
   "version": "3.12.0"
  }
 },
 "nbformat": 4,
 "nbformat_minor": 2
}
