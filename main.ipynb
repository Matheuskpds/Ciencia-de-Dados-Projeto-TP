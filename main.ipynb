{
 "cells": [
  {
   "cell_type": "code",
   "execution_count": 1,
   "metadata": {},
   "outputs": [
    {
     "name": "stderr",
     "output_type": "stream",
     "text": [
      "C:\\Users\\gabri\\AppData\\Local\\Temp\\ipykernel_13836\\3409896799.py:9: DtypeWarning: Columns (11,12,17,18,20,21,22,23,25,26,27,28,29,30,31,32,33,36,37,39,40,42,43,44,45,46,47,48,49,50) have mixed types. Specify dtype option on import or set low_memory=False.\n",
      "  df = pd.read_csv('dados/SpSafe_2022.csv', delimiter=';')\n"
     ]
    }
   ],
   "source": [
    "\n",
    "from shapely.geometry import Point\n",
    "import pandas as pd\n",
    "import math\n",
    "import geopandas as gpd\n",
    "import re\n",
    "import numpy as np\n",
    "from rapidfuzz import process, fuzz\n",
    "\n",
    "df = pd.read_csv('dados/SpSafe_2022.csv', delimiter=';')\n",
    "pd.set_option('display.max_columns', None)\n"
   ]
  },
  {
   "cell_type": "markdown",
   "metadata": {},
   "source": [
    "<h2 align=\"center\">\n",
    "  Códigos criados para localizar as cidades dos dados via latitude e longitude\n",
    "</h2>\n"
   ]
  },
  {
   "cell_type": "markdown",
   "metadata": {},
   "source": [
    "<div style = \"text-align: center;\">\n",
    "<strong>Diferente da primeira entrega, usamos o geopanda para mapear as cidades via latitude e longitude usando shapefile da Fundação Seade (Sistema Estadual de Análise de Dados)</strong>\n",
    "<br>\n",
    "<a href=\"https://portalgeo.seade.gov.br/\">Clique aqui para visitar o site</a>\n",
    "\n",
    "</div>\n"
   ]
  },
  {
   "cell_type": "code",
   "execution_count": 2,
   "metadata": {},
   "outputs": [],
   "source": [
    "malha = gpd.read_file(\"dados/Shapefile/LimiteMunicipal.shp\")\n"
   ]
  },
  {
   "cell_type": "markdown",
   "metadata": {},
   "source": [
    "<div style = \"text-align: center;\">\n",
    "<p> Percorremos cada linha, cruzando os dados do dataframe SpSafe com o que foi gerado com o shapefile da base geográfica dos municípios de São Paulo </p>\n",
    "</div>\n"
   ]
  },
  {
   "cell_type": "code",
   "execution_count": null,
   "metadata": {},
   "outputs": [],
   "source": [
    "contador_erro = 0\n",
    "for indice, linha in df.iloc[1:].iterrows():\n",
    "\tif pd.isna(linha[\"LATITUDE\"]) and pd.isna(linha[\"LONGITUDE\"]):\n",
    "\t\tcontinue\n",
    "\tif pd.isna(linha[\"CIDADE\"]) and pd.notna(linha[\"LATITUDE\"]) and pd.notna(linha[\"LONGITUDE\"]):\n",
    "\t\tponto = Point(linha[\"LONGITUDE\"], linha[\"LATITUDE\"])\n",
    "\t\tcidade = malha[malha.geometry.contains(ponto)]\n",
    "\t\tif not cidade.empty:\n",
    "\t\t\tdf.at[indice, \"CIDADE\"] = cidade.iloc[0][\"Municipio\"]\n",
    "\t\telse:\n",
    "\t\t\tcontador_erro = contador_erro + 1\n",
    "\t\t\tdf.iloc[indice, \"LATITUDE\", \"LONGITUDE\"]\n",
    "\tif(contador_erro >= 10 and contador_erro % 10 == 0):\n",
    "\t\tprint(f\"{contador_erro} erros.\")\n",
    "\n",
    "df.to_csv('dados/SpSafe_2022.csv', index=False, sep=';', encoding='utf-8')\n",
    "print(\"Gravado\")\n",
    "\n"
   ]
  },
  {
   "cell_type": "markdown",
   "metadata": {},
   "source": [
    "<div style = \"text-align: center;\">\n",
    "<h2> Tratamentos de erros</h2>\n",
    "</div>\n"
   ]
  },
  {
   "cell_type": "markdown",
   "metadata": {},
   "source": [
    "<div style = \"text-align: center;\">\n",
    "<p> Erros por latitude com virgula em posição incorreta </p>\n",
    "</div>\n"
   ]
  },
  {
   "cell_type": "code",
   "execution_count": 2,
   "metadata": {},
   "outputs": [],
   "source": [
    "\n",
    "df_filtrado = df.loc[(\n",
    "    df[\"CIDADE\"].isnull() &\n",
    "    df[\"LATITUDE\"].notnull() &\n",
    "    df[\"LONGITUDE\"].notnull()\n",
    "), [\"NUM_BO\",\"CIDADE\", \"LATITUDE\", \"LONGITUDE\", \"LOGRADOURO\", \"BAIRRO\"]\n",
    "]\n",
    "\n",
    "\n",
    "\n"
   ]
  },
  {
   "cell_type": "code",
   "execution_count": 50,
   "metadata": {},
   "outputs": [
    {
     "name": "stdout",
     "output_type": "stream",
     "text": [
      "Foram feitas 13016 alteraçoes\n"
     ]
    }
   ],
   "source": [
    "def verificaMag(valor):\n",
    "    if valor == 0:\n",
    "        return 0\n",
    "    return math.floor(math.log10(abs(valor))) - 1\n",
    "\n",
    "cont_alteracoes = 0\n",
    "\n",
    "for indice, linha in df.iloc[1:].iterrows():\n",
    "    if(pd.isna(linha[\"CIDADE\"]) and pd.notna(linha[\"LATITUDE\"]) and pd.notna(linha[\"LONGITUDE\"])):\n",
    "        lat = linha[\"LATITUDE\"] / 10 ** verificaMag(linha[\"LATITUDE\"])\n",
    "        long = linha[\"LONGITUDE\"] / 10 ** verificaMag(linha[\"LONGITUDE\"])\n",
    "        ponto = Point(long, lat)\n",
    "        cidade = malha[malha.geometry.contains(ponto)]\n",
    "\n",
    "        if not cidade.empty:\n",
    "            df.at[indice, \"CIDADE\"] = cidade.iloc[0][\"Municipio\"]\n",
    "            cont_alteracoes = cont_alteracoes + 1\n",
    "\n",
    "\n",
    "print(f\"Foram feitas {cont_alteracoes} alteraçoes\")\n",
    "df.to_csv('dados/SpSafe_2022.csv', index=False, sep=';', encoding='utf-8')\n",
    "    "
   ]
  },
  {
   "cell_type": "markdown",
   "metadata": {},
   "source": [
    "<div style = \"text-align: center;\">\n",
    "<p> Erros por falta de latitude e longitude </p>\n",
    "<p> Tratamento correlacionando com um DF de delegacias -> cidades encontrada via secretária de segurança pública de São Paulo </p>\n",
    "<a href=\"https://portalgeo.seade.gov.br/\">Clique aqui para visitar o site</a>\n",
    "</div>\n"
   ]
  },
  {
   "cell_type": "code",
   "execution_count": 52,
   "metadata": {},
   "outputs": [
    {
     "name": "stdout",
     "output_type": "stream",
     "text": [
      "['DM BIRIGUI' '1 DP SE' '2 DP BOM RETIRO' ... 'DELINVGER JUNDIAI'\n",
      " 'DELINFJUV SOROCABA' 'DISE DELSECFRANCO DA ROCHA']\n"
     ]
    }
   ],
   "source": [
    "delegacias = df[\"DELEGACIA_CIRCUNSCRICAO\"].unique()\n",
    "print(delegacias)"
   ]
  },
  {
   "cell_type": "markdown",
   "metadata": {},
   "source": [
    "<div style = \"text-align: center;\">\n",
    "<p> Abaixo vamos fazer uma pre-normalização  a escrita do dataFrame de delegacias, tirando simbolos, acentos</p>\n",
    "<p> A biblioteca unicodedate foi responsável por essa normalização </p>\n",
    "</div>"
   ]
  },
  {
   "cell_type": "code",
   "execution_count": 65,
   "metadata": {},
   "outputs": [
    {
     "name": "stdout",
     "output_type": "stream",
     "text": [
      "02 DP JACAREI\n"
     ]
    }
   ],
   "source": [
    "import unicodedata\n",
    "\n",
    "def remove_simbolos(texto):\n",
    "    texto = str(texto)\n",
    "\n",
    "    # Remove símbolos específicos antes da normalização\n",
    "    texto = texto.replace(\"º\", \"\")  # ordinal masculino\n",
    "    texto = texto.replace(\"ª\", \"\")  # ordinal feminino\n",
    "    texto = texto.replace(\"°\", \"\")  # grau\n",
    "\n",
    "    # Normaliza (remove acentos)\n",
    "    texto = unicodedata.normalize(\"NFKD\", texto)\n",
    "\n",
    "    # Remove qualquer caractere que não seja letra, número ou espaço\n",
    "    texto = ''.join(c for c in texto if c.isalnum() or c.isspace())\n",
    "\n",
    "    return texto\n",
    "\n",
    "df[\"DELEGACIA_ELABORACAO\"] = df[\"DELEGACIA_ELABORACAO\"].apply(remove_simbolos)\n",
    "\n",
    "print(remove_simbolos(\"02º D.P. JACAREIº\"))\n"
   ]
  },
  {
   "cell_type": "markdown",
   "metadata": {},
   "source": [
    "<div style = \"text-align: center;\">\n",
    "<p> Agora usamos uma biblioteca chamada RapidFuzz, para encontrar casamentos por similaridades usando o algoritimo\n",
    "    distancia Levenshtein, que classifica as similaridade de duas strings em um valor númerico de 0 a 100  </p>\n",
    "<p> Também usamos a biblioteca re, que trabalha com substituição/remoção de padrões \n",
    "</div>"
   ]
  },
  {
   "cell_type": "code",
   "execution_count": null,
   "metadata": {},
   "outputs": [
    {
     "name": "stdout",
     "output_type": "stream",
     "text": [
      "Substituições concluídas.\n"
     ]
    }
   ],
   "source": [
    "\n",
    "\n",
    "df_delegacias = pd.read_csv(\"dados/DADOS CRIMINAIS.csv\", delimiter=',')\n",
    "\n",
    "def preprocessar_string(s):\n",
    "    s = s.lower()\n",
    "    s = re.sub(r'[^\\w\\s]', '', s)  # [] Toda palavra ^negação \\w Letras, números e underscore \\s espaço\n",
    "    s = re.sub(r'\\s+', ' ', s).strip()\n",
    "    s = re.sub(r'^0+(\\d+)', r'\\1', s)\n",
    "    return s\n",
    "\n",
    "# Preprocessa todas as delegacias\n",
    "df_delegacias[\"DP_PREP\"] = df_delegacias[\"DP\"].astype(str).apply(preprocessar_string)\n",
    "\n",
    "def procura_similaridade(delegacia):\n",
    "    s = preprocessar_string(str(delegacia))\n",
    "    match = process.extractOne(\n",
    "        s,\n",
    "        df_delegacias[\"DP_PREP\"],\n",
    "        scorer=fuzz.ratio\n",
    "    )\n",
    "    if match and match[1] >= 90:\n",
    "        idx = df_delegacias[\"DP_PREP\"][df_delegacias[\"DP_PREP\"] == match[0]].index[0]\n",
    "        return df_delegacias.loc[idx, \"MUNICIPIO\"]\n",
    "    return np.nan\n",
    "\n",
    "# Aplica nos registros com cidade nula\n",
    "mascara = df[\"CIDADE\"].isna()\n",
    "df.loc[mascara, \"CIDADE\"] = df.loc[mascara, \"DELEGACIA_ELABORACAO\"].apply(procura_similaridade)\n",
    "\n",
    "print(\"Substituições concluídas.\")\n"
   ]
  },
  {
   "cell_type": "markdown",
   "metadata": {},
   "source": [
    "<div style = \"text-align: center;\">\n",
    "<p> Ruidos de cidades com valor 2513851.0, que corresponde a cidade de Santo André </p>\n",
    "</div>\n"
   ]
  },
  {
   "cell_type": "code",
   "execution_count": 8,
   "metadata": {},
   "outputs": [
    {
     "name": "stdout",
     "output_type": "stream",
     "text": [
      "Dados atualizados com sucesso.\n"
     ]
    }
   ],
   "source": [
    "df.loc[df[\"CIDADE\"] == \"2513851.0\", \"CIDADE\"] = \"Santo Andre\"\n",
    "\n",
    "df.to_csv('dados/SpSafe_2022.csv', index=False, sep=';', encoding='utf-8')\n",
    "print(\"Dados atualizados com sucesso.\")"
   ]
  },
  {
   "cell_type": "markdown",
   "metadata": {},
   "source": [
    "<div style = \"text-align: center;\">\n",
    "<p> Algumas correções que faltaram  com  maiores repetições </p>\n",
    "</div>\n"
   ]
  },
  {
   "cell_type": "code",
   "execution_count": null,
   "metadata": {},
   "outputs": [
    {
     "data": {
      "text/plain": [
       "DELEGACIA_ELABORACAO\n",
       "DELEGACIA ELETRONICA        51844\n",
       "DELEGACIA ELETRONICA 1       3833\n",
       "DELEGACIA ELETRONICA 3       2262\n",
       "DELEGACIA ELETRONICA 2       1322\n",
       "73 DP JACANA                  672\n",
       "                            ...  \n",
       "DELSECARARAQUARA                1\n",
       "DELPOLMIRA ESTRELA              1\n",
       "45 DP V BRASILANDIA             1\n",
       "1 DIG  DEIC  DEINTER 6          1\n",
       "SETOR HOMSEC SANTO ANDRE        1\n",
       "Name: count, Length: 796, dtype: int64"
      ]
     },
     "execution_count": 5,
     "metadata": {},
     "output_type": "execute_result"
    }
   ],
   "source": [
    "delegacias_agrupadas = df[df[\"CIDADE\"].isnull()][\"DELEGACIA_ELABORACAO\"].value_counts()\n",
    "delegacias_agrupadas"
   ]
  },
  {
   "cell_type": "code",
   "execution_count": 6,
   "metadata": {},
   "outputs": [
    {
     "name": "stdout",
     "output_type": "stream",
     "text": [
      "Alterações realizadas com sucesso.\n"
     ]
    }
   ],
   "source": [
    "\n",
    "for indice, linha in df[df[\"CIDADE\"].isnull()].iterrows():\n",
    "    if linha[\"DELEGACIA_ELABORACAO\"] == \"73 DP JACANA\":\n",
    "        df.at[indice, \"CIDADE\"] = \"São Paulo\"\n",
    "    elif linha[\"DELEGACIA_ELABORACAO\"] == \"PLANTAO DE SOROCABA  Z NORTE\":\n",
    "        df.at[indice, \"CIDADE\"] = \"Sorocaba\"\n",
    "    elif linha[\"DELEGACIA_ELABORACAO\"] == \"CPJ RIBEIRAO PRETO\":\n",
    "        df.at[indice, \"CIDADE\"] = \"Ribeirão Preto\"\n",
    "    elif linha[\"DELEGACIA_ELABORACAO\"] == \"DELPOLPLANTAO SUMARE\":\n",
    "        df.at[indice, \"CIDADE\"] = \"Sumaré\"\n",
    "    elif linha[\"DELEGACIA_ELABORACAO\"] == \"101 DP JDIM IMBUIAS\":\n",
    "        df.at[indice, \"CIDADE\"] = \"Jardim das Imbuias\"\n",
    "    elif linha[\"DELEGACIA_ELABORACAO\"] == \"89 DP JARDIM TABOAO\":\n",
    "        df.at[indice, \"CIDADE\"] = \"São Paulo\"\n",
    "    elif linha[\"DELEGACIA_ELABORACAO\"] == \"DELSECFRANCA PLANTAO\":\n",
    "        df.at[indice, \"CIDADE\"] = \"Franca\"\n",
    "    elif linha[\"DELEGACIA_ELABORACAO\"] == \"DELSECITANHAEM PLANTAO\":\n",
    "        df.at[indice, \"CIDADE\"] = \"Itanhaém\"\n",
    "    elif linha[\"DELEGACIA_ELABORACAO\"] == \"CPJ LINS\":\n",
    "        df.at[indice, \"CIDADE\"] = \"Lins\"\n",
    "    elif linha[\"DELEGACIA_ELABORACAO\"] == \"27 DP DR IGNACIO FRANCISCO\":\n",
    "        df.at[indice, \"CIDADE\"] = \"São Paulo\"\n",
    "    elif linha[\"DELEGACIA_ELABORACAO\"] == \"DELSECRIO CLARO PLANTAO\":\n",
    "        df.at[indice, \"CIDADE\"] = \"Rio Claro\"\n",
    "\n",
    "print(\"Alterações realizadas com sucesso.\")"
   ]
  },
  {
   "cell_type": "code",
   "execution_count": 7,
   "metadata": {},
   "outputs": [
    {
     "name": "stdout",
     "output_type": "stream",
     "text": [
      "Salvo com sucesso\n"
     ]
    }
   ],
   "source": [
    "df.to_csv('dados/SpSafe_2022.csv', index=False, sep=';', encoding='utf-8')\n",
    "print(\"Salvo com sucesso\")"
   ]
  },
  {
   "cell_type": "markdown",
   "metadata": {},
   "source": [
    "<div style = \"text-align: center;\">\n",
    "<h2> Cruzamento de dados: SpSafe com os Dados demográficos</h2>\n",
    "<p> Cruzei os dados das cidades conseguidas a cima, com os dados demográficos do estado de São Paulo via SEADE </p>\n",
    "<a href=\"https://repositorio.seade.gov.br/dataset/demografia\">Clique aqui para visitar o site</a>\n",
    "\n",
    "</div>"
   ]
  },
  {
   "cell_type": "code",
   "execution_count": 8,
   "metadata": {},
   "outputs": [],
   "source": [
    "malha_demografica = gpd.read_file(\"dados/Dados Demograficos/Den Demografica.shp\")"
   ]
  },
  {
   "cell_type": "markdown",
   "metadata": {},
   "source": [
    "<div style = \"text-align: center;\">\n",
    "<p> Algumas correções de cidades incorretas, e igualando padrões com os Dados Demográficos   </p>\n",
    "</div>"
   ]
  },
  {
   "cell_type": "code",
   "execution_count": null,
   "metadata": {},
   "outputs": [],
   "source": [
    "df[\"CIDADE\"] = df[\"CIDADE\"].replace({\n",
    "    \"Jardim das Imbuias\": \"São Paulo\",\n",
    "    \"Santa Bárbara D'Oeste\" : \"Santa Bárbara d'Oeste\",\n",
    "    \"Águas de Lindoia\" : \"Águas de Lindóia\",\n",
    "    \"Pompeia\" : \"Pompéia\", \n",
    "    \"Santa Rosa do Viterbo\" : \"Santa Rosa de Viterbo\",\n",
    "    \"Uchôa\" : \"Uchoa\",\n",
    "    \"Santo Andre\": \"Santo André\"\n",
    "})\n"
   ]
  },
  {
   "cell_type": "code",
   "execution_count": 41,
   "metadata": {},
   "outputs": [
    {
     "data": {
      "application/vnd.microsoft.datawrangler.viewer.v0+json": {
       "columns": [
        {
         "name": "index",
         "rawType": "int64",
         "type": "integer"
        },
        {
         "name": "CIDADE",
         "rawType": "object",
         "type": "string"
        },
        {
         "name": "QUANTIDADE_CRIMES",
         "rawType": "int64",
         "type": "integer"
        },
        {
         "name": "QUANTIDADE_POPULACAO",
         "rawType": "int64",
         "type": "integer"
        }
       ],
       "conversionMethod": "pd.DataFrame",
       "ref": "b16d8288-494f-408b-8ba5-2182946306d7",
       "rows": [
        [
         "0",
         "São Paulo",
         "317128",
         "11429865"
        ],
        [
         "1",
         "Santo André",
         "22467",
         "752784"
        ],
        [
         "2",
         "Guarulhos",
         "19332",
         "1293335"
        ],
        [
         "3",
         "Campinas",
         "18918",
         "1140133"
        ],
        [
         "4",
         "São Bernardo do Campo",
         "16913",
         "811198"
        ],
        [
         "5",
         "Osasco",
         "13358",
         "731127"
        ],
        [
         "6",
         "Diadema",
         "9418",
         "392224"
        ],
        [
         "7",
         "Mauá",
         "8189",
         "417046"
        ],
        [
         "8",
         "Ribeirão Preto",
         "7012",
         "704874"
        ],
        [
         "9",
         "Itaquaquecetuba",
         "6352",
         "372001"
        ],
        [
         "10",
         "Sorocaba",
         "6156",
         "733301"
        ],
        [
         "11",
         "Carapicuíba",
         "5384",
         "386618"
        ],
        [
         "12",
         "Suzano",
         "5318",
         "310255"
        ],
        [
         "13",
         "Praia Grande",
         "5229",
         "356054"
        ],
        [
         "14",
         "São José dos Campos",
         "5226",
         "700311"
        ],
        [
         "15",
         "Jundiaí",
         "5123",
         "448074"
        ],
        [
         "16",
         "Santos",
         "4675",
         "417795"
        ],
        [
         "17",
         "Mogi das Cruzes",
         "4672",
         "455116"
        ],
        [
         "18",
         "Sumaré",
         "4315",
         "281703"
        ],
        [
         "19",
         "São José do Rio Preto",
         "4247",
         "485356"
        ],
        [
         "20",
         "Limeira",
         "3992",
         "292634"
        ],
        [
         "21",
         "São Vicente",
         "3895",
         "328574"
        ],
        [
         "22",
         "Guarujá",
         "3729",
         "286515"
        ],
        [
         "23",
         "Cotia",
         "3491",
         "279346"
        ],
        [
         "24",
         "Boituva",
         "3055",
         "62054"
        ],
        [
         "25",
         "Taboão da Serra",
         "3029",
         "274537"
        ],
        [
         "26",
         "Itapecerica da Serra",
         "2985",
         "158321"
        ],
        [
         "27",
         "Ferraz de Vasconcelos",
         "2907",
         "179442"
        ],
        [
         "28",
         "Barueri",
         "2723",
         "321672"
        ],
        [
         "29",
         "Bauru",
         "2711",
         "381196"
        ],
        [
         "30",
         "Americana",
         "2618",
         "238829"
        ],
        [
         "31",
         "Rio Claro",
         "2601",
         "202177"
        ],
        [
         "32",
         "Hortolândia",
         "2454",
         "239765"
        ],
        [
         "33",
         "São Caetano do Sul",
         "2374",
         "166398"
        ],
        [
         "34",
         "São Carlos",
         "2351",
         "256743"
        ],
        [
         "35",
         "Franca",
         "2315",
         "354489"
        ],
        [
         "36",
         "Embu das Artes",
         "2300",
         "250540"
        ],
        [
         "37",
         "Itanhaém",
         "2269",
         "114186"
        ],
        [
         "38",
         "Taubaté",
         "2138",
         "312416"
        ],
        [
         "39",
         "Cubatão",
         "2088",
         "111549"
        ],
        [
         "40",
         "Poá",
         "1943",
         "103206"
        ],
        [
         "41",
         "Piracicaba",
         "1836",
         "427094"
        ],
        [
         "42",
         "Jacareí",
         "1807",
         "241952"
        ],
        [
         "43",
         "Itapevi",
         "1784",
         "234026"
        ],
        [
         "44",
         "Lins",
         "1410",
         "74858"
        ],
        [
         "45",
         "Ribeirão Pires",
         "1312",
         "115392"
        ],
        [
         "46",
         "Barretos",
         "1295",
         "123162"
        ],
        [
         "47",
         "Mogi Guaçu",
         "1281",
         "154517"
        ],
        [
         "48",
         "Arujá",
         "1216",
         "87470"
        ],
        [
         "49",
         "Itatiba",
         "1206",
         "122969"
        ]
       ],
       "shape": {
        "columns": 3,
        "rows": 649
       }
      },
      "text/html": [
       "<div>\n",
       "<style scoped>\n",
       "    .dataframe tbody tr th:only-of-type {\n",
       "        vertical-align: middle;\n",
       "    }\n",
       "\n",
       "    .dataframe tbody tr th {\n",
       "        vertical-align: top;\n",
       "    }\n",
       "\n",
       "    .dataframe thead th {\n",
       "        text-align: right;\n",
       "    }\n",
       "</style>\n",
       "<table border=\"1\" class=\"dataframe\">\n",
       "  <thead>\n",
       "    <tr style=\"text-align: right;\">\n",
       "      <th></th>\n",
       "      <th>CIDADE</th>\n",
       "      <th>QUANTIDADE_CRIMES</th>\n",
       "      <th>QUANTIDADE_POPULACAO</th>\n",
       "    </tr>\n",
       "  </thead>\n",
       "  <tbody>\n",
       "    <tr>\n",
       "      <th>0</th>\n",
       "      <td>São Paulo</td>\n",
       "      <td>317128</td>\n",
       "      <td>11429865</td>\n",
       "    </tr>\n",
       "    <tr>\n",
       "      <th>1</th>\n",
       "      <td>Santo André</td>\n",
       "      <td>22467</td>\n",
       "      <td>752784</td>\n",
       "    </tr>\n",
       "    <tr>\n",
       "      <th>2</th>\n",
       "      <td>Guarulhos</td>\n",
       "      <td>19332</td>\n",
       "      <td>1293335</td>\n",
       "    </tr>\n",
       "    <tr>\n",
       "      <th>3</th>\n",
       "      <td>Campinas</td>\n",
       "      <td>18918</td>\n",
       "      <td>1140133</td>\n",
       "    </tr>\n",
       "    <tr>\n",
       "      <th>4</th>\n",
       "      <td>São Bernardo do Campo</td>\n",
       "      <td>16913</td>\n",
       "      <td>811198</td>\n",
       "    </tr>\n",
       "    <tr>\n",
       "      <th>...</th>\n",
       "      <td>...</td>\n",
       "      <td>...</td>\n",
       "      <td>...</td>\n",
       "    </tr>\n",
       "    <tr>\n",
       "      <th>644</th>\n",
       "      <td>São João do Pau d'Alho</td>\n",
       "      <td>1</td>\n",
       "      <td>2248</td>\n",
       "    </tr>\n",
       "    <tr>\n",
       "      <th>645</th>\n",
       "      <td>Santo Antônio da Alegria</td>\n",
       "      <td>1</td>\n",
       "      <td>6805</td>\n",
       "    </tr>\n",
       "    <tr>\n",
       "      <th>646</th>\n",
       "      <td>Pracinha</td>\n",
       "      <td>1</td>\n",
       "      <td>2565</td>\n",
       "    </tr>\n",
       "    <tr>\n",
       "      <th>647</th>\n",
       "      <td>Ribeirão Grande</td>\n",
       "      <td>1</td>\n",
       "      <td>7422</td>\n",
       "    </tr>\n",
       "    <tr>\n",
       "      <th>648</th>\n",
       "      <td>São Francisco</td>\n",
       "      <td>1</td>\n",
       "      <td>2582</td>\n",
       "    </tr>\n",
       "  </tbody>\n",
       "</table>\n",
       "<p>649 rows × 3 columns</p>\n",
       "</div>"
      ],
      "text/plain": [
       "                       CIDADE  QUANTIDADE_CRIMES  QUANTIDADE_POPULACAO\n",
       "0                   São Paulo             317128              11429865\n",
       "1                 Santo André              22467                752784\n",
       "2                   Guarulhos              19332               1293335\n",
       "3                    Campinas              18918               1140133\n",
       "4       São Bernardo do Campo              16913                811198\n",
       "..                        ...                ...                   ...\n",
       "644    São João do Pau d'Alho                  1                  2248\n",
       "645  Santo Antônio da Alegria                  1                  6805\n",
       "646                  Pracinha                  1                  2565\n",
       "647           Ribeirão Grande                  1                  7422\n",
       "648             São Francisco                  1                  2582\n",
       "\n",
       "[649 rows x 3 columns]"
      ]
     },
     "execution_count": 41,
     "metadata": {},
     "output_type": "execute_result"
    }
   ],
   "source": [
    "df_cidades = df[\"CIDADE\"].value_counts().reset_index()\n",
    "df_cidades.columns = [\"CIDADE\", \"QUANTIDADE_CRIMES\"]\n",
    "df_cidades[\"QUANTIDADE_POPULACAO\"] = 0\n",
    "\n",
    "for indice, linha in df_cidades.iterrows():\n",
    "    qtd = malha_demografica[malha_demografica[\"Nome\"].str.contains(linha[\"CIDADE\"], na=False)]\n",
    "\n",
    "    if not qtd.empty:\n",
    "        df_cidades.at[indice, \"QUANTIDADE_POPULACAO\"] = qtd.iloc[0][\"Pop\"]\n",
    "\n",
    "\n",
    "df_cidades\n"
   ]
  },
  {
   "cell_type": "markdown",
   "metadata": {},
   "source": [
    "<div style = \"text-align: center;\">\n",
    "<p>Cidades com menos de 50.0000 habitantes.</p>\n",
    "</div>"
   ]
  },
  {
   "cell_type": "code",
   "execution_count": 42,
   "metadata": {},
   "outputs": [
    {
     "data": {
      "application/vnd.microsoft.datawrangler.viewer.v0+json": {
       "columns": [
        {
         "name": "index",
         "rawType": "int64",
         "type": "integer"
        },
        {
         "name": "CIDADE",
         "rawType": "object",
         "type": "string"
        },
        {
         "name": "QUANTIDADE_CRIMES",
         "rawType": "int64",
         "type": "integer"
        },
        {
         "name": "QUANTIDADE_POPULACAO",
         "rawType": "int64",
         "type": "integer"
        }
       ],
       "conversionMethod": "pd.DataFrame",
       "ref": "a264a8fc-4a34-4efe-9736-e175fe4f416e",
       "rows": [
        [
         "71",
         "Araçariguama",
         "735",
         "21856"
        ],
        [
         "93",
         "Miracatu",
         "548",
         "18330"
        ],
        [
         "103",
         "Guararema",
         "497",
         "31576"
        ],
        [
         "107",
         "Jarinu",
         "449",
         "38541"
        ],
        [
         "117",
         "Juquitiba",
         "363",
         "27189"
        ],
        [
         "119",
         "São Lourenço da Serra",
         "335",
         "16185"
        ],
        [
         "121",
         "Jardinópolis",
         "331",
         "45773"
        ],
        [
         "129",
         "Guariba",
         "278",
         "37516"
        ],
        [
         "133",
         "Aparecida",
         "264",
         "32272"
        ],
        [
         "134",
         "Garça",
         "258",
         "41973"
        ],
        [
         "136",
         "Juquiá",
         "252",
         "16954"
        ],
        [
         "137",
         "Campos do Jordão",
         "251",
         "46787"
        ],
        [
         "138",
         "Jales",
         "244",
         "48835"
        ],
        [
         "141",
         "Cabreúva",
         "227",
         "47414"
        ],
        [
         "143",
         "Tietê",
         "214",
         "23025"
        ],
        [
         "145",
         "Miguelópolis",
         "206",
         "19292"
        ],
        [
         "147",
         "Orlândia",
         "205",
         "38076"
        ],
        [
         "148",
         "Serrana",
         "203",
         "44258"
        ],
        [
         "149",
         "Rio Grande da Serra",
         "201",
         "44032"
        ],
        [
         "150",
         "Araçoiaba da Serra",
         "195",
         "32826"
        ],
        [
         "153",
         "Ituverava",
         "187",
         "37426"
        ],
        [
         "154",
         "Vargem Grande do Sul",
         "183",
         "40129"
        ],
        [
         "155",
         "São Joaquim da Barra",
         "183",
         "48674"
        ],
        [
         "156",
         "Itápolis",
         "182",
         "39355"
        ],
        [
         "157",
         "Pedreira",
         "181",
         "43194"
        ],
        [
         "159",
         "Salto de Pirapora",
         "179",
         "43969"
        ],
        [
         "161",
         "Conchal",
         "174",
         "28242"
        ],
        [
         "163",
         "São Pedro",
         "169",
         "2774"
        ],
        [
         "164",
         "Itararé",
         "162",
         "3549"
        ],
        [
         "165",
         "Santa Rita do Passa Quatro",
         "162",
         "24668"
        ],
        [
         "167",
         "Capão Bonito",
         "158",
         "46264"
        ],
        [
         "168",
         "Cordeirópolis",
         "156",
         "24768"
        ],
        [
         "169",
         "Promissão",
         "152",
         "34971"
        ],
        [
         "170",
         "Monte Alto",
         "150",
         "47528"
        ],
        [
         "171",
         "Presidente Epitácio",
         "149",
         "39223"
        ],
        [
         "172",
         "Pederneiras",
         "148",
         "45053"
        ],
        [
         "173",
         "Ibaté",
         "147",
         "32205"
        ],
        [
         "174",
         "Cravinhos",
         "144",
         "33273"
        ],
        [
         "175",
         "Novo Horizonte",
         "144",
         "38391"
        ],
        [
         "177",
         "Cajati",
         "139",
         "28495"
        ],
        [
         "178",
         "Nazaré Paulista",
         "132",
         "18305"
        ],
        [
         "179",
         "Guaíra",
         "130",
         "39380"
        ],
        [
         "180",
         "Morro Agudo",
         "129",
         "27796"
        ],
        [
         "181",
         "Ilhabela",
         "128",
         "35371"
        ],
        [
         "182",
         "Paraguaçu Paulista",
         "124",
         "40894"
        ],
        [
         "183",
         "São Manuel",
         "123",
         "37153"
        ],
        [
         "184",
         "Pontal",
         "123",
         "37323"
        ],
        [
         "186",
         "Cerquilho",
         "121",
         "44954"
        ],
        [
         "187",
         "Espírito Santo do Pinhal",
         "120",
         "39582"
        ],
        [
         "189",
         "Cachoeira Paulista",
         "118",
         "31604"
        ]
       ],
       "shape": {
        "columns": 3,
        "rows": 483
       }
      },
      "text/html": [
       "<div>\n",
       "<style scoped>\n",
       "    .dataframe tbody tr th:only-of-type {\n",
       "        vertical-align: middle;\n",
       "    }\n",
       "\n",
       "    .dataframe tbody tr th {\n",
       "        vertical-align: top;\n",
       "    }\n",
       "\n",
       "    .dataframe thead th {\n",
       "        text-align: right;\n",
       "    }\n",
       "</style>\n",
       "<table border=\"1\" class=\"dataframe\">\n",
       "  <thead>\n",
       "    <tr style=\"text-align: right;\">\n",
       "      <th></th>\n",
       "      <th>CIDADE</th>\n",
       "      <th>QUANTIDADE_CRIMES</th>\n",
       "      <th>QUANTIDADE_POPULACAO</th>\n",
       "    </tr>\n",
       "  </thead>\n",
       "  <tbody>\n",
       "    <tr>\n",
       "      <th>71</th>\n",
       "      <td>Araçariguama</td>\n",
       "      <td>735</td>\n",
       "      <td>21856</td>\n",
       "    </tr>\n",
       "    <tr>\n",
       "      <th>93</th>\n",
       "      <td>Miracatu</td>\n",
       "      <td>548</td>\n",
       "      <td>18330</td>\n",
       "    </tr>\n",
       "    <tr>\n",
       "      <th>103</th>\n",
       "      <td>Guararema</td>\n",
       "      <td>497</td>\n",
       "      <td>31576</td>\n",
       "    </tr>\n",
       "    <tr>\n",
       "      <th>107</th>\n",
       "      <td>Jarinu</td>\n",
       "      <td>449</td>\n",
       "      <td>38541</td>\n",
       "    </tr>\n",
       "    <tr>\n",
       "      <th>117</th>\n",
       "      <td>Juquitiba</td>\n",
       "      <td>363</td>\n",
       "      <td>27189</td>\n",
       "    </tr>\n",
       "    <tr>\n",
       "      <th>...</th>\n",
       "      <td>...</td>\n",
       "      <td>...</td>\n",
       "      <td>...</td>\n",
       "    </tr>\n",
       "    <tr>\n",
       "      <th>644</th>\n",
       "      <td>São João do Pau d'Alho</td>\n",
       "      <td>1</td>\n",
       "      <td>2248</td>\n",
       "    </tr>\n",
       "    <tr>\n",
       "      <th>645</th>\n",
       "      <td>Santo Antônio da Alegria</td>\n",
       "      <td>1</td>\n",
       "      <td>6805</td>\n",
       "    </tr>\n",
       "    <tr>\n",
       "      <th>646</th>\n",
       "      <td>Pracinha</td>\n",
       "      <td>1</td>\n",
       "      <td>2565</td>\n",
       "    </tr>\n",
       "    <tr>\n",
       "      <th>647</th>\n",
       "      <td>Ribeirão Grande</td>\n",
       "      <td>1</td>\n",
       "      <td>7422</td>\n",
       "    </tr>\n",
       "    <tr>\n",
       "      <th>648</th>\n",
       "      <td>São Francisco</td>\n",
       "      <td>1</td>\n",
       "      <td>2582</td>\n",
       "    </tr>\n",
       "  </tbody>\n",
       "</table>\n",
       "<p>483 rows × 3 columns</p>\n",
       "</div>"
      ],
      "text/plain": [
       "                       CIDADE  QUANTIDADE_CRIMES  QUANTIDADE_POPULACAO\n",
       "71               Araçariguama                735                 21856\n",
       "93                   Miracatu                548                 18330\n",
       "103                 Guararema                497                 31576\n",
       "107                    Jarinu                449                 38541\n",
       "117                 Juquitiba                363                 27189\n",
       "..                        ...                ...                   ...\n",
       "644    São João do Pau d'Alho                  1                  2248\n",
       "645  Santo Antônio da Alegria                  1                  6805\n",
       "646                  Pracinha                  1                  2565\n",
       "647           Ribeirão Grande                  1                  7422\n",
       "648             São Francisco                  1                  2582\n",
       "\n",
       "[483 rows x 3 columns]"
      ]
     },
     "execution_count": 42,
     "metadata": {},
     "output_type": "execute_result"
    }
   ],
   "source": [
    "df_cidades.loc[(df_cidades.QUANTIDADE_POPULACAO > 0 ) & (df_cidades.QUANTIDADE_POPULACAO < 50000 )]"
   ]
  }
 ],
 "metadata": {
  "kernelspec": {
   "display_name": "Python 3",
   "language": "python",
   "name": "python3"
  },
  "language_info": {
   "codemirror_mode": {
    "name": "ipython",
    "version": 3
   },
   "file_extension": ".py",
   "mimetype": "text/x-python",
   "name": "python",
   "nbconvert_exporter": "python",
   "pygments_lexer": "ipython3",
   "version": "3.13.2"
  }
 },
 "nbformat": 4,
 "nbformat_minor": 2
}
