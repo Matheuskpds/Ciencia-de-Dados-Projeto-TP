{
 "cells": [
  {
   "cell_type": "code",
   "execution_count": null,
   "metadata": {},
   "outputs": [
    {
     "name": "stderr",
     "output_type": "stream",
     "text": [
      "C:\\Users\\gabri\\AppData\\Local\\Temp\\ipykernel_21672\\227656833.py:21: DtypeWarning: Columns (11,12,17,18,20,21,22,23,25,26,27,28,29,30,31,32,33,36,37,39,40,42,43,44,45,46,47,48,49,50) have mixed types. Specify dtype option on import or set low_memory=False.\n",
      "  df = pd.read_csv('dados/SpSafe_2022.csv', delimiter=';')\n"
     ]
    }
   ],
   "source": [
    "\n",
    "from shapely.geometry import Point\n",
    "import pandas as pd\n",
    "from math import sqrt\n",
    "import geopandas as gpd\n",
    "import re\n",
    "import numpy as np\n",
    "from rapidfuzz import process, fuzz\n",
    "from sklearn.linear_model import LinearRegression\n",
    "import matplotlib.pyplot as plt\n",
    "from sklearn.metrics import r2_score, mean_squared_error\n",
    "from sklearn.ensemble import RandomForestRegressor, GradientBoostingRegressor\n",
    "from sklearn.model_selection import train_test_split\n",
    "from sklearn.impute import SimpleImputer\n",
    "import seaborn as sns\n",
    "from sklearn.cluster import KMeans\n",
    "from sklearn.preprocessing import StandardScaler\n",
    "\n",
    "df = pd.read_csv('dados/SpSafe_2022.csv', delimiter=';')\n",
    "pd.set_option('display.max_columns', None)\n",
    "df = pd.read_csv('dados/SpSafe_2022.csv', delimiter=';')\n",
    "pd.set_option('display.max_columns', None)\n"
   ]
  },
  {
   "cell_type": "markdown",
   "metadata": {},
   "source": [
    "<h2 style=\"text-align: center;\">Aprendizagem supervisionado</h2>\n"
   ]
  },
  {
   "cell_type": "markdown",
   "metadata": {},
   "source": [
    "<p> A baixo, usarei dois algoritmo mais eficentes de aprendizagem supervisionado para tentar prever a quantidade de crimes de uma cidade usando algumas novas features como pib percapita e taxa de escolarização </p>\n",
    "<a href=\"cidades.ibge.gov.br/brasil/sp/sao-paulo/panorama>\">Referência: IBGE</a>"
   ]
  },
  {
   "cell_type": "code",
   "execution_count": 96,
   "metadata": {},
   "outputs": [],
   "source": [
    "df_cidades = pd.read_csv('SpSafe_2022_cidades.csv', delimiter=',')\n",
    "df_cidades[\"pib_2021\"] = 0"
   ]
  },
  {
   "cell_type": "code",
   "execution_count": 97,
   "metadata": {},
   "outputs": [],
   "source": [
    "renda = pd.read_csv('dados/mapa.csv', delimiter=',')\n",
    "escolas = pd.read_csv('dados/mapa_educacao.csv', delimiter=',')"
   ]
  },
  {
   "cell_type": "code",
   "execution_count": 98,
   "metadata": {},
   "outputs": [],
   "source": [
    "renda.rename(columns={' \"PIB per capita\"': 'pib_per_capita'}, inplace=True)\n",
    "escolas.rename(columns={' \"Taxa de escolarização de 6 a 14 anos de idade\"': 'taxa_escolarizacao'}, inplace=True)"
   ]
  },
  {
   "cell_type": "code",
   "execution_count": 99,
   "metadata": {},
   "outputs": [],
   "source": [
    "\n",
    "df_cidades = df_cidades.merge(\n",
    "    renda[['Local', 'pib_per_capita']],\n",
    "    left_on='CIDADE',\n",
    "    right_on='Local',\n",
    "    how='left'\n",
    ")"
   ]
  },
  {
   "cell_type": "code",
   "execution_count": 100,
   "metadata": {},
   "outputs": [],
   "source": [
    "df_cidades = df_cidades.merge(\n",
    "    escolas[['Local', 'taxa_escolarizacao']],\n",
    "    left_on='CIDADE',\n",
    "    right_on='Local',\n",
    "    how='left'\n",
    ")   "
   ]
  },
  {
   "cell_type": "code",
   "execution_count": 101,
   "metadata": {},
   "outputs": [
    {
     "data": {
      "application/vnd.microsoft.datawrangler.viewer.v0+json": {
       "columns": [
        {
         "name": "index",
         "rawType": "int64",
         "type": "integer"
        },
        {
         "name": "CIDADE",
         "rawType": "object",
         "type": "string"
        },
        {
         "name": "QUANTIDADE_CRIMES",
         "rawType": "int64",
         "type": "integer"
        },
        {
         "name": "QUANTIDADE_POPULACAO",
         "rawType": "int64",
         "type": "integer"
        },
        {
         "name": "CRIMES_POR_100K",
         "rawType": "float64",
         "type": "float"
        },
        {
         "name": "IDMH",
         "rawType": "float64",
         "type": "float"
        },
        {
         "name": "cod_ibge",
         "rawType": "int64",
         "type": "integer"
        },
        {
         "name": "cod_ra",
         "rawType": "int64",
         "type": "integer"
        },
        {
         "name": "reg_administrativa",
         "rawType": "object",
         "type": "string"
        },
        {
         "name": "reg_metropolitanas",
         "rawType": "object",
         "type": "string"
        },
        {
         "name": "ideb2019",
         "rawType": "float64",
         "type": "float"
        },
        {
         "name": "pib_2021",
         "rawType": "int64",
         "type": "integer"
        },
        {
         "name": "Local_x",
         "rawType": "object",
         "type": "string"
        },
        {
         "name": "pib_per_capita",
         "rawType": "float64",
         "type": "float"
        },
        {
         "name": "Local_y",
         "rawType": "object",
         "type": "string"
        },
        {
         "name": "taxa_escolarizacao",
         "rawType": "float64",
         "type": "float"
        }
       ],
       "ref": "ee53957d-cc84-4770-830e-a6b0a88a1338",
       "rows": [
        [
         "0",
         "São Paulo",
         "251285",
         "11429865",
         "2198.0",
         "0.8",
         "3550308",
         "681",
         "RM  de São Paulo",
         "RM de Sao Paulo",
         "4.1",
         "0",
         "São Paulo",
         "66872.84",
         "São Paulo",
         "96.0"
        ],
        [
         "1",
         "Santo André",
         "16033",
         "752784",
         "2130.0",
         "0.81",
         "3547809",
         "681",
         "RM  de São Paulo",
         "RM de Sao Paulo",
         "4.5",
         "0",
         "Santo André",
         "45062.56",
         "Santo André",
         "97.4"
        ],
        [
         "2",
         "Campinas",
         "13731",
         "1140133",
         "1204.0",
         "0.8",
         "3509502",
         "686",
         "RA de Campinas",
         "RM de Campinas",
         "4.4",
         "0",
         "Campinas",
         "59634.21",
         "Campinas",
         "96.0"
        ],
        [
         "3",
         "Guarulhos",
         "12815",
         "1293335",
         "991.0",
         "0.76",
         "3518800",
         "681",
         "RM  de São Paulo",
         "RM de Sao Paulo",
         "4.2",
         "0",
         "Guarulhos",
         "55084.22",
         "Guarulhos",
         "97.1"
        ],
        [
         "4",
         "São Bernardo do Campo",
         "11086",
         "811198",
         "1367.0",
         "0.8",
         "3548708",
         "681",
         "RM  de São Paulo",
         "RM de Sao Paulo",
         "4.4",
         "0",
         "São Bernardo do Campo",
         "68571.36",
         "São Bernardo do Campo",
         "97.6"
        ]
       ],
       "shape": {
        "columns": 15,
        "rows": 5
       }
      },
      "text/html": [
       "<div>\n",
       "<style scoped>\n",
       "    .dataframe tbody tr th:only-of-type {\n",
       "        vertical-align: middle;\n",
       "    }\n",
       "\n",
       "    .dataframe tbody tr th {\n",
       "        vertical-align: top;\n",
       "    }\n",
       "\n",
       "    .dataframe thead th {\n",
       "        text-align: right;\n",
       "    }\n",
       "</style>\n",
       "<table border=\"1\" class=\"dataframe\">\n",
       "  <thead>\n",
       "    <tr style=\"text-align: right;\">\n",
       "      <th></th>\n",
       "      <th>CIDADE</th>\n",
       "      <th>QUANTIDADE_CRIMES</th>\n",
       "      <th>QUANTIDADE_POPULACAO</th>\n",
       "      <th>CRIMES_POR_100K</th>\n",
       "      <th>IDMH</th>\n",
       "      <th>cod_ibge</th>\n",
       "      <th>cod_ra</th>\n",
       "      <th>reg_administrativa</th>\n",
       "      <th>reg_metropolitanas</th>\n",
       "      <th>ideb2019</th>\n",
       "      <th>pib_2021</th>\n",
       "      <th>Local_x</th>\n",
       "      <th>pib_per_capita</th>\n",
       "      <th>Local_y</th>\n",
       "      <th>taxa_escolarizacao</th>\n",
       "    </tr>\n",
       "  </thead>\n",
       "  <tbody>\n",
       "    <tr>\n",
       "      <th>0</th>\n",
       "      <td>São Paulo</td>\n",
       "      <td>251285</td>\n",
       "      <td>11429865</td>\n",
       "      <td>2198.0</td>\n",
       "      <td>0.80</td>\n",
       "      <td>3550308</td>\n",
       "      <td>681</td>\n",
       "      <td>RM  de São Paulo</td>\n",
       "      <td>RM de Sao Paulo</td>\n",
       "      <td>4.1</td>\n",
       "      <td>0</td>\n",
       "      <td>São Paulo</td>\n",
       "      <td>66872.84</td>\n",
       "      <td>São Paulo</td>\n",
       "      <td>96.0</td>\n",
       "    </tr>\n",
       "    <tr>\n",
       "      <th>1</th>\n",
       "      <td>Santo André</td>\n",
       "      <td>16033</td>\n",
       "      <td>752784</td>\n",
       "      <td>2130.0</td>\n",
       "      <td>0.81</td>\n",
       "      <td>3547809</td>\n",
       "      <td>681</td>\n",
       "      <td>RM  de São Paulo</td>\n",
       "      <td>RM de Sao Paulo</td>\n",
       "      <td>4.5</td>\n",
       "      <td>0</td>\n",
       "      <td>Santo André</td>\n",
       "      <td>45062.56</td>\n",
       "      <td>Santo André</td>\n",
       "      <td>97.4</td>\n",
       "    </tr>\n",
       "    <tr>\n",
       "      <th>2</th>\n",
       "      <td>Campinas</td>\n",
       "      <td>13731</td>\n",
       "      <td>1140133</td>\n",
       "      <td>1204.0</td>\n",
       "      <td>0.80</td>\n",
       "      <td>3509502</td>\n",
       "      <td>686</td>\n",
       "      <td>RA de Campinas</td>\n",
       "      <td>RM de Campinas</td>\n",
       "      <td>4.4</td>\n",
       "      <td>0</td>\n",
       "      <td>Campinas</td>\n",
       "      <td>59634.21</td>\n",
       "      <td>Campinas</td>\n",
       "      <td>96.0</td>\n",
       "    </tr>\n",
       "    <tr>\n",
       "      <th>3</th>\n",
       "      <td>Guarulhos</td>\n",
       "      <td>12815</td>\n",
       "      <td>1293335</td>\n",
       "      <td>991.0</td>\n",
       "      <td>0.76</td>\n",
       "      <td>3518800</td>\n",
       "      <td>681</td>\n",
       "      <td>RM  de São Paulo</td>\n",
       "      <td>RM de Sao Paulo</td>\n",
       "      <td>4.2</td>\n",
       "      <td>0</td>\n",
       "      <td>Guarulhos</td>\n",
       "      <td>55084.22</td>\n",
       "      <td>Guarulhos</td>\n",
       "      <td>97.1</td>\n",
       "    </tr>\n",
       "    <tr>\n",
       "      <th>4</th>\n",
       "      <td>São Bernardo do Campo</td>\n",
       "      <td>11086</td>\n",
       "      <td>811198</td>\n",
       "      <td>1367.0</td>\n",
       "      <td>0.80</td>\n",
       "      <td>3548708</td>\n",
       "      <td>681</td>\n",
       "      <td>RM  de São Paulo</td>\n",
       "      <td>RM de Sao Paulo</td>\n",
       "      <td>4.4</td>\n",
       "      <td>0</td>\n",
       "      <td>São Bernardo do Campo</td>\n",
       "      <td>68571.36</td>\n",
       "      <td>São Bernardo do Campo</td>\n",
       "      <td>97.6</td>\n",
       "    </tr>\n",
       "  </tbody>\n",
       "</table>\n",
       "</div>"
      ],
      "text/plain": [
       "                  CIDADE  QUANTIDADE_CRIMES  QUANTIDADE_POPULACAO  \\\n",
       "0              São Paulo             251285              11429865   \n",
       "1            Santo André              16033                752784   \n",
       "2               Campinas              13731               1140133   \n",
       "3              Guarulhos              12815               1293335   \n",
       "4  São Bernardo do Campo              11086                811198   \n",
       "\n",
       "   CRIMES_POR_100K  IDMH  cod_ibge  cod_ra reg_administrativa  \\\n",
       "0           2198.0  0.80   3550308     681   RM  de São Paulo   \n",
       "1           2130.0  0.81   3547809     681   RM  de São Paulo   \n",
       "2           1204.0  0.80   3509502     686     RA de Campinas   \n",
       "3            991.0  0.76   3518800     681   RM  de São Paulo   \n",
       "4           1367.0  0.80   3548708     681   RM  de São Paulo   \n",
       "\n",
       "  reg_metropolitanas  ideb2019  pib_2021                Local_x  \\\n",
       "0    RM de Sao Paulo       4.1         0              São Paulo   \n",
       "1    RM de Sao Paulo       4.5         0            Santo André   \n",
       "2     RM de Campinas       4.4         0               Campinas   \n",
       "3    RM de Sao Paulo       4.2         0              Guarulhos   \n",
       "4    RM de Sao Paulo       4.4         0  São Bernardo do Campo   \n",
       "\n",
       "   pib_per_capita                Local_y  taxa_escolarizacao  \n",
       "0        66872.84              São Paulo                96.0  \n",
       "1        45062.56            Santo André                97.4  \n",
       "2        59634.21               Campinas                96.0  \n",
       "3        55084.22              Guarulhos                97.1  \n",
       "4        68571.36  São Bernardo do Campo                97.6  "
      ]
     },
     "execution_count": 101,
     "metadata": {},
     "output_type": "execute_result"
    }
   ],
   "source": [
    "df_cidades.head()"
   ]
  },
  {
   "cell_type": "markdown",
   "metadata": {},
   "source": [
    "<p> Filtrando outliers para diminuir o overlift </p>"
   ]
  },
  {
   "cell_type": "code",
   "execution_count": null,
   "metadata": {},
   "outputs": [
    {
     "data": {
      "application/vnd.microsoft.datawrangler.viewer.v0+json": {
       "columns": [
        {
         "name": "index",
         "rawType": "int64",
         "type": "integer"
        },
        {
         "name": "CIDADE",
         "rawType": "object",
         "type": "string"
        },
        {
         "name": "QUANTIDADE_CRIMES",
         "rawType": "int64",
         "type": "integer"
        },
        {
         "name": "QUANTIDADE_POPULACAO",
         "rawType": "int64",
         "type": "integer"
        },
        {
         "name": "CRIMES_POR_100K",
         "rawType": "float64",
         "type": "float"
        },
        {
         "name": "IDMH",
         "rawType": "float64",
         "type": "float"
        },
        {
         "name": "cod_ibge",
         "rawType": "int64",
         "type": "integer"
        },
        {
         "name": "cod_ra",
         "rawType": "int64",
         "type": "integer"
        },
        {
         "name": "reg_administrativa",
         "rawType": "object",
         "type": "string"
        },
        {
         "name": "reg_metropolitanas",
         "rawType": "object",
         "type": "string"
        },
        {
         "name": "ideb2019",
         "rawType": "float64",
         "type": "float"
        },
        {
         "name": "pib_2021",
         "rawType": "int64",
         "type": "integer"
        },
        {
         "name": "Local_x",
         "rawType": "object",
         "type": "string"
        },
        {
         "name": "pib_per_capita",
         "rawType": "float64",
         "type": "float"
        },
        {
         "name": "Local_y",
         "rawType": "object",
         "type": "string"
        },
        {
         "name": "taxa_escolarizacao",
         "rawType": "float64",
         "type": "float"
        }
       ],
       "ref": "7c3fef34-6322-441c-b48a-abee0758aa1d",
       "rows": [
        [
         "1",
         "Santo André",
         "16033",
         "752784",
         "2130.0",
         "0.81",
         "3547809",
         "681",
         "RM  de São Paulo",
         "RM de Sao Paulo",
         "4.5",
         "0",
         "Santo André",
         "45062.56",
         "Santo André",
         "97.4"
        ],
        [
         "2",
         "Campinas",
         "13731",
         "1140133",
         "1204.0",
         "0.8",
         "3509502",
         "686",
         "RA de Campinas",
         "RM de Campinas",
         "4.4",
         "0",
         "Campinas",
         "59634.21",
         "Campinas",
         "96.0"
        ],
        [
         "3",
         "Guarulhos",
         "12815",
         "1293335",
         "991.0",
         "0.76",
         "3518800",
         "681",
         "RM  de São Paulo",
         "RM de Sao Paulo",
         "4.2",
         "0",
         "Guarulhos",
         "55084.22",
         "Guarulhos",
         "97.1"
        ],
        [
         "4",
         "São Bernardo do Campo",
         "11086",
         "811198",
         "1367.0",
         "0.8",
         "3548708",
         "681",
         "RM  de São Paulo",
         "RM de Sao Paulo",
         "4.4",
         "0",
         "São Bernardo do Campo",
         "68571.36",
         "São Bernardo do Campo",
         "97.6"
        ],
        [
         "5",
         "Osasco",
         "9412",
         "731127",
         "1287.0",
         "0.77",
         "3534401",
         "681",
         "RM  de São Paulo",
         "RM de Sao Paulo",
         "4.1",
         "0",
         "Osasco",
         "122765.64",
         "Osasco",
         "96.0"
        ]
       ],
       "shape": {
        "columns": 15,
        "rows": 5
       }
      },
      "text/html": [
       "<div>\n",
       "<style scoped>\n",
       "    .dataframe tbody tr th:only-of-type {\n",
       "        vertical-align: middle;\n",
       "    }\n",
       "\n",
       "    .dataframe tbody tr th {\n",
       "        vertical-align: top;\n",
       "    }\n",
       "\n",
       "    .dataframe thead th {\n",
       "        text-align: right;\n",
       "    }\n",
       "</style>\n",
       "<table border=\"1\" class=\"dataframe\">\n",
       "  <thead>\n",
       "    <tr style=\"text-align: right;\">\n",
       "      <th></th>\n",
       "      <th>CIDADE</th>\n",
       "      <th>QUANTIDADE_CRIMES</th>\n",
       "      <th>QUANTIDADE_POPULACAO</th>\n",
       "      <th>CRIMES_POR_100K</th>\n",
       "      <th>IDMH</th>\n",
       "      <th>cod_ibge</th>\n",
       "      <th>cod_ra</th>\n",
       "      <th>reg_administrativa</th>\n",
       "      <th>reg_metropolitanas</th>\n",
       "      <th>ideb2019</th>\n",
       "      <th>pib_2021</th>\n",
       "      <th>Local_x</th>\n",
       "      <th>pib_per_capita</th>\n",
       "      <th>Local_y</th>\n",
       "      <th>taxa_escolarizacao</th>\n",
       "    </tr>\n",
       "  </thead>\n",
       "  <tbody>\n",
       "    <tr>\n",
       "      <th>1</th>\n",
       "      <td>Santo André</td>\n",
       "      <td>16033</td>\n",
       "      <td>752784</td>\n",
       "      <td>2130.0</td>\n",
       "      <td>0.81</td>\n",
       "      <td>3547809</td>\n",
       "      <td>681</td>\n",
       "      <td>RM  de São Paulo</td>\n",
       "      <td>RM de Sao Paulo</td>\n",
       "      <td>4.5</td>\n",
       "      <td>0</td>\n",
       "      <td>Santo André</td>\n",
       "      <td>45062.56</td>\n",
       "      <td>Santo André</td>\n",
       "      <td>97.4</td>\n",
       "    </tr>\n",
       "    <tr>\n",
       "      <th>2</th>\n",
       "      <td>Campinas</td>\n",
       "      <td>13731</td>\n",
       "      <td>1140133</td>\n",
       "      <td>1204.0</td>\n",
       "      <td>0.80</td>\n",
       "      <td>3509502</td>\n",
       "      <td>686</td>\n",
       "      <td>RA de Campinas</td>\n",
       "      <td>RM de Campinas</td>\n",
       "      <td>4.4</td>\n",
       "      <td>0</td>\n",
       "      <td>Campinas</td>\n",
       "      <td>59634.21</td>\n",
       "      <td>Campinas</td>\n",
       "      <td>96.0</td>\n",
       "    </tr>\n",
       "    <tr>\n",
       "      <th>3</th>\n",
       "      <td>Guarulhos</td>\n",
       "      <td>12815</td>\n",
       "      <td>1293335</td>\n",
       "      <td>991.0</td>\n",
       "      <td>0.76</td>\n",
       "      <td>3518800</td>\n",
       "      <td>681</td>\n",
       "      <td>RM  de São Paulo</td>\n",
       "      <td>RM de Sao Paulo</td>\n",
       "      <td>4.2</td>\n",
       "      <td>0</td>\n",
       "      <td>Guarulhos</td>\n",
       "      <td>55084.22</td>\n",
       "      <td>Guarulhos</td>\n",
       "      <td>97.1</td>\n",
       "    </tr>\n",
       "    <tr>\n",
       "      <th>4</th>\n",
       "      <td>São Bernardo do Campo</td>\n",
       "      <td>11086</td>\n",
       "      <td>811198</td>\n",
       "      <td>1367.0</td>\n",
       "      <td>0.80</td>\n",
       "      <td>3548708</td>\n",
       "      <td>681</td>\n",
       "      <td>RM  de São Paulo</td>\n",
       "      <td>RM de Sao Paulo</td>\n",
       "      <td>4.4</td>\n",
       "      <td>0</td>\n",
       "      <td>São Bernardo do Campo</td>\n",
       "      <td>68571.36</td>\n",
       "      <td>São Bernardo do Campo</td>\n",
       "      <td>97.6</td>\n",
       "    </tr>\n",
       "    <tr>\n",
       "      <th>5</th>\n",
       "      <td>Osasco</td>\n",
       "      <td>9412</td>\n",
       "      <td>731127</td>\n",
       "      <td>1287.0</td>\n",
       "      <td>0.77</td>\n",
       "      <td>3534401</td>\n",
       "      <td>681</td>\n",
       "      <td>RM  de São Paulo</td>\n",
       "      <td>RM de Sao Paulo</td>\n",
       "      <td>4.1</td>\n",
       "      <td>0</td>\n",
       "      <td>Osasco</td>\n",
       "      <td>122765.64</td>\n",
       "      <td>Osasco</td>\n",
       "      <td>96.0</td>\n",
       "    </tr>\n",
       "  </tbody>\n",
       "</table>\n",
       "</div>"
      ],
      "text/plain": [
       "                  CIDADE  QUANTIDADE_CRIMES  QUANTIDADE_POPULACAO  \\\n",
       "1            Santo André              16033                752784   \n",
       "2               Campinas              13731               1140133   \n",
       "3              Guarulhos              12815               1293335   \n",
       "4  São Bernardo do Campo              11086                811198   \n",
       "5                 Osasco               9412                731127   \n",
       "\n",
       "   CRIMES_POR_100K  IDMH  cod_ibge  cod_ra reg_administrativa  \\\n",
       "1           2130.0  0.81   3547809     681   RM  de São Paulo   \n",
       "2           1204.0  0.80   3509502     686     RA de Campinas   \n",
       "3            991.0  0.76   3518800     681   RM  de São Paulo   \n",
       "4           1367.0  0.80   3548708     681   RM  de São Paulo   \n",
       "5           1287.0  0.77   3534401     681   RM  de São Paulo   \n",
       "\n",
       "  reg_metropolitanas  ideb2019  pib_2021                Local_x  \\\n",
       "1    RM de Sao Paulo       4.5         0            Santo André   \n",
       "2     RM de Campinas       4.4         0               Campinas   \n",
       "3    RM de Sao Paulo       4.2         0              Guarulhos   \n",
       "4    RM de Sao Paulo       4.4         0  São Bernardo do Campo   \n",
       "5    RM de Sao Paulo       4.1         0                 Osasco   \n",
       "\n",
       "   pib_per_capita                Local_y  taxa_escolarizacao  \n",
       "1        45062.56            Santo André                97.4  \n",
       "2        59634.21               Campinas                96.0  \n",
       "3        55084.22              Guarulhos                97.1  \n",
       "4        68571.36  São Bernardo do Campo                97.6  \n",
       "5       122765.64                 Osasco                96.0  "
      ]
     },
     "execution_count": 104,
     "metadata": {},
     "output_type": "execute_result"
    }
   ],
   "source": [
    "\n",
    "df_sem_outliers = df_cidades[df_cidades['QUANTIDADE_CRIMES'] < 50000]\n",
    "df_sem_outliers.head()"
   ]
  },
  {
   "cell_type": "markdown",
   "metadata": {},
   "source": [
    "<h2 style = 'text-align: center;'> Random Forest </h2>"
   ]
  },
  {
   "cell_type": "code",
   "execution_count": 126,
   "metadata": {},
   "outputs": [
    {
     "name": "stdout",
     "output_type": "stream",
     "text": [
      "R²: 0.9876687237935213\n",
      "IDMH: 0.01\n",
      "CRIMES_POR_100K: 0.08\n",
      "QUANTIDADE_POPULACAO: 0.89\n",
      "pib_per_capita: 0.01\n",
      "taxa_escolarizacao: 0.01\n"
     ]
    }
   ],
   "source": [
    "\n",
    "X = df_sem_outliers [['IDMH', 'CRIMES_POR_100K','QUANTIDADE_POPULACAO', 'pib_per_capita', 'taxa_escolarizacao']]\n",
    "y = df_sem_outliers ['QUANTIDADE_CRIMES']\n",
    "\n",
    "# Dividir                                                           \n",
    "X_train, X_test, y_train, y_test = train_test_split(X, y, test_size=0.2, random_state=42)\n",
    "\n",
    "# Modelo\n",
    "model = RandomForestRegressor(n_estimators=100, random_state=42)\n",
    "model.fit(X_train, y_train)\n",
    "y_pred = model.predict(X_test)\n",
    "\n",
    "# Avaliação\n",
    "print(\"R²:\", r2_score(y_test, y_pred))\n",
    "\n",
    "\n",
    "\n",
    "# Importância das features\n",
    "importances = model.feature_importances_\n",
    "for nome, imp in zip(X.columns, importances):\n",
    "    print(f\"{nome}: {imp:.2f}\")\n",
    "\n",
    "\n"
   ]
  },
  {
   "cell_type": "markdown",
   "metadata": {},
   "source": [
    "<p > Testando o modelo com o um aumento de 0,65% de suas features, conforme previsão de crescimento para o ano de 2023</p>"
   ]
  },
  {
   "cell_type": "code",
   "execution_count": null,
   "metadata": {},
   "outputs": [
    {
     "data": {
      "text/html": [
       "<style type=\"text/css\">\n",
       "</style>\n",
       "<table id=\"T_80e7b\">\n",
       "  <caption>Simulação: crimes reais vs. previsão após acréscimo de 0,65% nos atributos</caption>\n",
       "  <thead>\n",
       "    <tr>\n",
       "      <th class=\"blank level0\" >&nbsp;</th>\n",
       "      <th id=\"T_80e7b_level0_col0\" class=\"col_heading level0 col0\" >CIDADE</th>\n",
       "      <th id=\"T_80e7b_level0_col1\" class=\"col_heading level0 col1\" >crimes_reais</th>\n",
       "      <th id=\"T_80e7b_level0_col2\" class=\"col_heading level0 col2\" >crimes_previstos</th>\n",
       "      <th id=\"T_80e7b_level0_col3\" class=\"col_heading level0 col3\" >IDMH_original</th>\n",
       "      <th id=\"T_80e7b_level0_col4\" class=\"col_heading level0 col4\" >CRIMES_POR_100K_original</th>\n",
       "      <th id=\"T_80e7b_level0_col5\" class=\"col_heading level0 col5\" >QUANTIDADE_POPULACAO_original</th>\n",
       "      <th id=\"T_80e7b_level0_col6\" class=\"col_heading level0 col6\" >pib_per_capita_original</th>\n",
       "      <th id=\"T_80e7b_level0_col7\" class=\"col_heading level0 col7\" >taxa_escolarizacao_original</th>\n",
       "      <th id=\"T_80e7b_level0_col8\" class=\"col_heading level0 col8\" >IDMH_+0.65%</th>\n",
       "      <th id=\"T_80e7b_level0_col9\" class=\"col_heading level0 col9\" >CRIMES_POR_100K_+0.65%</th>\n",
       "      <th id=\"T_80e7b_level0_col10\" class=\"col_heading level0 col10\" >QUANTIDADE_POPULACAO_+0.65%</th>\n",
       "      <th id=\"T_80e7b_level0_col11\" class=\"col_heading level0 col11\" >pib_per_capita_+0.65%</th>\n",
       "      <th id=\"T_80e7b_level0_col12\" class=\"col_heading level0 col12\" >taxa_escolarizacao_+0.65%</th>\n",
       "    </tr>\n",
       "  </thead>\n",
       "  <tbody>\n",
       "    <tr>\n",
       "      <th id=\"T_80e7b_level0_row0\" class=\"row_heading level0 row0\" >0</th>\n",
       "      <td id=\"T_80e7b_row0_col0\" class=\"data row0 col0\" >Francisco Morato</td>\n",
       "      <td id=\"T_80e7b_row0_col1\" class=\"data row0 col1\" >840</td>\n",
       "      <td id=\"T_80e7b_row0_col2\" class=\"data row0 col2\" >866</td>\n",
       "      <td id=\"T_80e7b_row0_col3\" class=\"data row0 col3\" >0.700000</td>\n",
       "      <td id=\"T_80e7b_row0_col4\" class=\"data row0 col4\" >508.000000</td>\n",
       "      <td id=\"T_80e7b_row0_col5\" class=\"data row0 col5\" >165435</td>\n",
       "      <td id=\"T_80e7b_row0_col6\" class=\"data row0 col6\" >10439.010000</td>\n",
       "      <td id=\"T_80e7b_row0_col7\" class=\"data row0 col7\" >95.800000</td>\n",
       "      <td id=\"T_80e7b_row0_col8\" class=\"data row0 col8\" >0.704550</td>\n",
       "      <td id=\"T_80e7b_row0_col9\" class=\"data row0 col9\" >511.302000</td>\n",
       "      <td id=\"T_80e7b_row0_col10\" class=\"data row0 col10\" >166510.327500</td>\n",
       "      <td id=\"T_80e7b_row0_col11\" class=\"data row0 col11\" >10506.863565</td>\n",
       "      <td id=\"T_80e7b_row0_col12\" class=\"data row0 col12\" >96.422700</td>\n",
       "    </tr>\n",
       "    <tr>\n",
       "      <th id=\"T_80e7b_level0_row1\" class=\"row_heading level0 row1\" >1</th>\n",
       "      <td id=\"T_80e7b_row1_col0\" class=\"data row1 col0\" >Caiuá</td>\n",
       "      <td id=\"T_80e7b_row1_col1\" class=\"data row1 col1\" >2</td>\n",
       "      <td id=\"T_80e7b_row1_col2\" class=\"data row1 col2\" >1</td>\n",
       "      <td id=\"T_80e7b_row1_col3\" class=\"data row1 col3\" >0.690000</td>\n",
       "      <td id=\"T_80e7b_row1_col4\" class=\"data row1 col4\" >36.000000</td>\n",
       "      <td id=\"T_80e7b_row1_col5\" class=\"data row1 col5\" >5492</td>\n",
       "      <td id=\"T_80e7b_row1_col6\" class=\"data row1 col6\" >15997.160000</td>\n",
       "      <td id=\"T_80e7b_row1_col7\" class=\"data row1 col7\" >99.300000</td>\n",
       "      <td id=\"T_80e7b_row1_col8\" class=\"data row1 col8\" >0.694485</td>\n",
       "      <td id=\"T_80e7b_row1_col9\" class=\"data row1 col9\" >36.234000</td>\n",
       "      <td id=\"T_80e7b_row1_col10\" class=\"data row1 col10\" >5527.698000</td>\n",
       "      <td id=\"T_80e7b_row1_col11\" class=\"data row1 col11\" >16101.141540</td>\n",
       "      <td id=\"T_80e7b_row1_col12\" class=\"data row1 col12\" >99.945450</td>\n",
       "    </tr>\n",
       "    <tr>\n",
       "      <th id=\"T_80e7b_level0_row2\" class=\"row_heading level0 row2\" >2</th>\n",
       "      <td id=\"T_80e7b_row2_col0\" class=\"data row2 col0\" >Jaú</td>\n",
       "      <td id=\"T_80e7b_row2_col1\" class=\"data row2 col1\" >427</td>\n",
       "      <td id=\"T_80e7b_row2_col2\" class=\"data row2 col2\" >410</td>\n",
       "      <td id=\"T_80e7b_row2_col3\" class=\"data row2 col3\" >0.770000</td>\n",
       "      <td id=\"T_80e7b_row2_col4\" class=\"data row2 col4\" >320.000000</td>\n",
       "      <td id=\"T_80e7b_row2_col5\" class=\"data row2 col5\" >133548</td>\n",
       "      <td id=\"T_80e7b_row2_col6\" class=\"data row2 col6\" >36376.160000</td>\n",
       "      <td id=\"T_80e7b_row2_col7\" class=\"data row2 col7\" >97.800000</td>\n",
       "      <td id=\"T_80e7b_row2_col8\" class=\"data row2 col8\" >0.775005</td>\n",
       "      <td id=\"T_80e7b_row2_col9\" class=\"data row2 col9\" >322.080000</td>\n",
       "      <td id=\"T_80e7b_row2_col10\" class=\"data row2 col10\" >134416.062000</td>\n",
       "      <td id=\"T_80e7b_row2_col11\" class=\"data row2 col11\" >36612.605040</td>\n",
       "      <td id=\"T_80e7b_row2_col12\" class=\"data row2 col12\" >98.435700</td>\n",
       "    </tr>\n",
       "    <tr>\n",
       "      <th id=\"T_80e7b_level0_row3\" class=\"row_heading level0 row3\" >3</th>\n",
       "      <td id=\"T_80e7b_row3_col0\" class=\"data row3 col0\" >Apiaí</td>\n",
       "      <td id=\"T_80e7b_row3_col1\" class=\"data row3 col1\" >29</td>\n",
       "      <td id=\"T_80e7b_row3_col2\" class=\"data row3 col2\" >28</td>\n",
       "      <td id=\"T_80e7b_row3_col3\" class=\"data row3 col3\" >0.710000</td>\n",
       "      <td id=\"T_80e7b_row3_col4\" class=\"data row3 col4\" >118.000000</td>\n",
       "      <td id=\"T_80e7b_row3_col5\" class=\"data row3 col5\" >24477</td>\n",
       "      <td id=\"T_80e7b_row3_col6\" class=\"data row3 col6\" >37278.880000</td>\n",
       "      <td id=\"T_80e7b_row3_col7\" class=\"data row3 col7\" >97.300000</td>\n",
       "      <td id=\"T_80e7b_row3_col8\" class=\"data row3 col8\" >0.714615</td>\n",
       "      <td id=\"T_80e7b_row3_col9\" class=\"data row3 col9\" >118.767000</td>\n",
       "      <td id=\"T_80e7b_row3_col10\" class=\"data row3 col10\" >24636.100500</td>\n",
       "      <td id=\"T_80e7b_row3_col11\" class=\"data row3 col11\" >37521.192720</td>\n",
       "      <td id=\"T_80e7b_row3_col12\" class=\"data row3 col12\" >97.932450</td>\n",
       "    </tr>\n",
       "  </tbody>\n",
       "</table>\n"
      ],
      "text/plain": [
       "<pandas.io.formats.style.Styler at 0x216a734c550>"
      ]
     },
     "execution_count": 123,
     "metadata": {},
     "output_type": "execute_result"
    }
   ],
   "source": [
    "# Seleciona 4 amostras aleatórias\n",
    "amostras = df_cidades.sample(n=4, random_state=42)\n",
    "\n",
    "colunas_usadas = ['IDMH', 'CRIMES_POR_100K', 'QUANTIDADE_POPULACAO', 'pib_per_capita', 'taxa_escolarizacao']\n",
    "X_amostras = amostras[colunas_usadas].copy()\n",
    "\n",
    "\n",
    "X_modificado = X_amostras * 1.0065\n",
    "\n",
    "\n",
    "predicoes = model.predict(X_modificado)\n",
    "\n",
    "resultado = X_amostras.copy()\n",
    "resultado.columns = [f\"{col}_original\" for col in resultado.columns]\n",
    "\n",
    "for col in colunas_usadas:\n",
    "    resultado[f\"{col}_+0.65%\"] = X_modificado[col].values\n",
    "\n",
    "\n",
    "resultado[\"crimes_previstos\"] = predicoes.astype(int)\n",
    "resultado[\"CIDADE\"] = amostras[\"CIDADE\"].values\n",
    "resultado[\"crimes_reais\"] = amostras[\"QUANTIDADE_CRIMES\"].values\n",
    "\n",
    "\n",
    "colunas_final = [\"CIDADE\", \"crimes_reais\", \"crimes_previstos\"] + \\\n",
    "                [col for col in resultado.columns if col not in [\"CIDADE\", \"crimes_reais\", \"crimes_previstos\"]]\n",
    "\n",
    "resultado = resultado[colunas_final].reset_index(drop=True)\n",
    "\n",
    "\n",
    "resultado.style.set_caption(\"Simulação: crimes reais vs. previsão após acréscimo de 0,65% nos atributos\")\n",
    "\n",
    " \n",
    "\n",
    "\n",
    "\n"
   ]
  },
  {
   "cell_type": "markdown",
   "metadata": {},
   "source": [
    "<h2 style = 'text-align: center'> Gradient Boosting Regressor </h2>"
   ]
  },
  {
   "cell_type": "code",
   "execution_count": 106,
   "metadata": {},
   "outputs": [
    {
     "name": "stdout",
     "output_type": "stream",
     "text": [
      "R²: 0.991417717136144\n",
      "Erro médio de 146.81 crimes por cidade\n"
     ]
    }
   ],
   "source": [
    "\n",
    "# Imputação de valores ausentes e treinamento com \n",
    "imputer = SimpleImputer(strategy='mean')\n",
    "X_train_imputed = imputer.fit_transform(X_train)\n",
    "X_test_imputed = imputer.transform(X_test)\n",
    "\n",
    "\n",
    "model2 = GradientBoostingRegressor(n_estimators=100, learning_rate=0.1, random_state=42)\n",
    "model2.fit(X_train_imputed, y_train)\n",
    "\n",
    "\n",
    "y_pred2 = model2.predict(X_test_imputed)\n",
    "print(\"R²:\", r2_score(y_test, y_pred2))\n",
    "\n",
    "\n",
    "rmse = np.sqrt(mean_squared_error(y_test, y_pred))\n",
    "print(f\"Erro médio de {rmse:.2f} crimes por cidade\")\n"
   ]
  },
  {
   "cell_type": "markdown",
   "metadata": {},
   "source": [
    "<p>Testando com a mesma amostra testada com o random florest </p>"
   ]
  },
  {
   "cell_type": "code",
   "execution_count": null,
   "metadata": {},
   "outputs": [
    {
     "name": "stderr",
     "output_type": "stream",
     "text": [
      "c:\\Users\\gabri\\AppData\\Local\\Programs\\Python\\Python313\\Lib\\site-packages\\sklearn\\utils\\validation.py:2732: UserWarning: X has feature names, but GradientBoostingRegressor was fitted without feature names\n",
      "  warnings.warn(\n"
     ]
    },
    {
     "data": {
      "text/html": [
       "<style type=\"text/css\">\n",
       "</style>\n",
       "<table id=\"T_30083\">\n",
       "  <caption>Simulação: crimes reais vs. previsão após acréscimo de 0,65% nos atributos</caption>\n",
       "  <thead>\n",
       "    <tr>\n",
       "      <th class=\"blank level0\" >&nbsp;</th>\n",
       "      <th id=\"T_30083_level0_col0\" class=\"col_heading level0 col0\" >CIDADE</th>\n",
       "      <th id=\"T_30083_level0_col1\" class=\"col_heading level0 col1\" >crimes_reais</th>\n",
       "      <th id=\"T_30083_level0_col2\" class=\"col_heading level0 col2\" >crimes_previstos</th>\n",
       "      <th id=\"T_30083_level0_col3\" class=\"col_heading level0 col3\" >IDMH_original</th>\n",
       "      <th id=\"T_30083_level0_col4\" class=\"col_heading level0 col4\" >CRIMES_POR_100K_original</th>\n",
       "      <th id=\"T_30083_level0_col5\" class=\"col_heading level0 col5\" >QUANTIDADE_POPULACAO_original</th>\n",
       "      <th id=\"T_30083_level0_col6\" class=\"col_heading level0 col6\" >pib_per_capita_original</th>\n",
       "      <th id=\"T_30083_level0_col7\" class=\"col_heading level0 col7\" >taxa_escolarizacao_original</th>\n",
       "      <th id=\"T_30083_level0_col8\" class=\"col_heading level0 col8\" >IDMH_+0.65%</th>\n",
       "      <th id=\"T_30083_level0_col9\" class=\"col_heading level0 col9\" >CRIMES_POR_100K_+0.65%</th>\n",
       "      <th id=\"T_30083_level0_col10\" class=\"col_heading level0 col10\" >QUANTIDADE_POPULACAO_+0.65%</th>\n",
       "      <th id=\"T_30083_level0_col11\" class=\"col_heading level0 col11\" >pib_per_capita_+0.65%</th>\n",
       "      <th id=\"T_30083_level0_col12\" class=\"col_heading level0 col12\" >taxa_escolarizacao_+0.65%</th>\n",
       "    </tr>\n",
       "  </thead>\n",
       "  <tbody>\n",
       "    <tr>\n",
       "      <th id=\"T_30083_level0_row0\" class=\"row_heading level0 row0\" >0</th>\n",
       "      <td id=\"T_30083_row0_col0\" class=\"data row0 col0\" >Francisco Morato</td>\n",
       "      <td id=\"T_30083_row0_col1\" class=\"data row0 col1\" >840</td>\n",
       "      <td id=\"T_30083_row0_col2\" class=\"data row0 col2\" >826</td>\n",
       "      <td id=\"T_30083_row0_col3\" class=\"data row0 col3\" >0.700000</td>\n",
       "      <td id=\"T_30083_row0_col4\" class=\"data row0 col4\" >508.000000</td>\n",
       "      <td id=\"T_30083_row0_col5\" class=\"data row0 col5\" >165435</td>\n",
       "      <td id=\"T_30083_row0_col6\" class=\"data row0 col6\" >10439.010000</td>\n",
       "      <td id=\"T_30083_row0_col7\" class=\"data row0 col7\" >95.800000</td>\n",
       "      <td id=\"T_30083_row0_col8\" class=\"data row0 col8\" >0.704550</td>\n",
       "      <td id=\"T_30083_row0_col9\" class=\"data row0 col9\" >511.302000</td>\n",
       "      <td id=\"T_30083_row0_col10\" class=\"data row0 col10\" >166510.327500</td>\n",
       "      <td id=\"T_30083_row0_col11\" class=\"data row0 col11\" >10506.863565</td>\n",
       "      <td id=\"T_30083_row0_col12\" class=\"data row0 col12\" >96.422700</td>\n",
       "    </tr>\n",
       "    <tr>\n",
       "      <th id=\"T_30083_level0_row1\" class=\"row_heading level0 row1\" >1</th>\n",
       "      <td id=\"T_30083_row1_col0\" class=\"data row1 col0\" >Caiuá</td>\n",
       "      <td id=\"T_30083_row1_col1\" class=\"data row1 col1\" >2</td>\n",
       "      <td id=\"T_30083_row1_col2\" class=\"data row1 col2\" >3</td>\n",
       "      <td id=\"T_30083_row1_col3\" class=\"data row1 col3\" >0.690000</td>\n",
       "      <td id=\"T_30083_row1_col4\" class=\"data row1 col4\" >36.000000</td>\n",
       "      <td id=\"T_30083_row1_col5\" class=\"data row1 col5\" >5492</td>\n",
       "      <td id=\"T_30083_row1_col6\" class=\"data row1 col6\" >15997.160000</td>\n",
       "      <td id=\"T_30083_row1_col7\" class=\"data row1 col7\" >99.300000</td>\n",
       "      <td id=\"T_30083_row1_col8\" class=\"data row1 col8\" >0.694485</td>\n",
       "      <td id=\"T_30083_row1_col9\" class=\"data row1 col9\" >36.234000</td>\n",
       "      <td id=\"T_30083_row1_col10\" class=\"data row1 col10\" >5527.698000</td>\n",
       "      <td id=\"T_30083_row1_col11\" class=\"data row1 col11\" >16101.141540</td>\n",
       "      <td id=\"T_30083_row1_col12\" class=\"data row1 col12\" >99.945450</td>\n",
       "    </tr>\n",
       "    <tr>\n",
       "      <th id=\"T_30083_level0_row2\" class=\"row_heading level0 row2\" >2</th>\n",
       "      <td id=\"T_30083_row2_col0\" class=\"data row2 col0\" >Jaú</td>\n",
       "      <td id=\"T_30083_row2_col1\" class=\"data row2 col1\" >427</td>\n",
       "      <td id=\"T_30083_row2_col2\" class=\"data row2 col2\" >413</td>\n",
       "      <td id=\"T_30083_row2_col3\" class=\"data row2 col3\" >0.770000</td>\n",
       "      <td id=\"T_30083_row2_col4\" class=\"data row2 col4\" >320.000000</td>\n",
       "      <td id=\"T_30083_row2_col5\" class=\"data row2 col5\" >133548</td>\n",
       "      <td id=\"T_30083_row2_col6\" class=\"data row2 col6\" >36376.160000</td>\n",
       "      <td id=\"T_30083_row2_col7\" class=\"data row2 col7\" >97.800000</td>\n",
       "      <td id=\"T_30083_row2_col8\" class=\"data row2 col8\" >0.775005</td>\n",
       "      <td id=\"T_30083_row2_col9\" class=\"data row2 col9\" >322.080000</td>\n",
       "      <td id=\"T_30083_row2_col10\" class=\"data row2 col10\" >134416.062000</td>\n",
       "      <td id=\"T_30083_row2_col11\" class=\"data row2 col11\" >36612.605040</td>\n",
       "      <td id=\"T_30083_row2_col12\" class=\"data row2 col12\" >98.435700</td>\n",
       "    </tr>\n",
       "    <tr>\n",
       "      <th id=\"T_30083_level0_row3\" class=\"row_heading level0 row3\" >3</th>\n",
       "      <td id=\"T_30083_row3_col0\" class=\"data row3 col0\" >Apiaí</td>\n",
       "      <td id=\"T_30083_row3_col1\" class=\"data row3 col1\" >29</td>\n",
       "      <td id=\"T_30083_row3_col2\" class=\"data row3 col2\" >38</td>\n",
       "      <td id=\"T_30083_row3_col3\" class=\"data row3 col3\" >0.710000</td>\n",
       "      <td id=\"T_30083_row3_col4\" class=\"data row3 col4\" >118.000000</td>\n",
       "      <td id=\"T_30083_row3_col5\" class=\"data row3 col5\" >24477</td>\n",
       "      <td id=\"T_30083_row3_col6\" class=\"data row3 col6\" >37278.880000</td>\n",
       "      <td id=\"T_30083_row3_col7\" class=\"data row3 col7\" >97.300000</td>\n",
       "      <td id=\"T_30083_row3_col8\" class=\"data row3 col8\" >0.714615</td>\n",
       "      <td id=\"T_30083_row3_col9\" class=\"data row3 col9\" >118.767000</td>\n",
       "      <td id=\"T_30083_row3_col10\" class=\"data row3 col10\" >24636.100500</td>\n",
       "      <td id=\"T_30083_row3_col11\" class=\"data row3 col11\" >37521.192720</td>\n",
       "      <td id=\"T_30083_row3_col12\" class=\"data row3 col12\" >97.932450</td>\n",
       "    </tr>\n",
       "  </tbody>\n",
       "</table>\n"
      ],
      "text/plain": [
       "<pandas.io.formats.style.Styler at 0x216adcd0690>"
      ]
     },
     "execution_count": 124,
     "metadata": {},
     "output_type": "execute_result"
    }
   ],
   "source": [
    "predicoes_grad = model2.predict(X_modificado)\n",
    "\n",
    "# Adiciona previsão, cidade e valor real de crimes\n",
    "resultado[\"crimes_previstos\"] = predicoes_grad.astype(int)\n",
    "resultado[\"CIDADE\"] = amostras[\"CIDADE\"].values\n",
    "resultado[\"crimes_reais\"] = amostras[\"QUANTIDADE_CRIMES\"].values\n",
    "\n",
    "colunas_final = [\"CIDADE\", \"crimes_reais\", \"crimes_previstos\"] + \\\n",
    "                [col for col in resultado.columns if col not in [\"CIDADE\", \"crimes_reais\", \"crimes_previstos\"]]\n",
    "\n",
    "resultado = resultado[colunas_final].reset_index(drop=True)\n",
    "\n",
    "\n",
    "resultado.style.set_caption(\"Simulação: crimes reais vs. previsão após acréscimo de 0,65% nos atributos\")\n",
    "\n",
    " "
   ]
  },
  {
   "cell_type": "markdown",
   "metadata": {},
   "source": [
    "<h2 style=\"text-align: center;\">Aprendizagem não-supervisionado</h2>\n"
   ]
  },
  {
   "cell_type": "markdown",
   "metadata": {},
   "source": [
    "<p>Neo aprendizado não-supervisionado, irei usar o algoritmo kmeans para encontrar relações entre as features, e a criação de 3 grupos </p>"
   ]
  },
  {
   "cell_type": "code",
   "execution_count": 129,
   "metadata": {},
   "outputs": [
    {
     "name": "stderr",
     "output_type": "stream",
     "text": [
      "C:\\Users\\gabri\\AppData\\Local\\Temp\\ipykernel_21672\\2315566610.py:15: SettingWithCopyWarning: \n",
      "A value is trying to be set on a copy of a slice from a DataFrame.\n",
      "Try using .loc[row_indexer,col_indexer] = value instead\n",
      "\n",
      "See the caveats in the documentation: https://pandas.pydata.org/pandas-docs/stable/user_guide/indexing.html#returning-a-view-versus-a-copy\n",
      "  df_sem_outliers['grupo'] = kmeans.fit_predict(X_scaled)\n"
     ]
    },
    {
     "data": {
      "image/png": "[encoded data removed]",
      "text/plain": [
       "<Figure size 1000x600 with 1 Axes>"
      ]
     },
     "metadata": {},
     "output_type": "display_data"
    }
   ],
   "source": [
    "from sklearn.impute import SimpleImputer\n",
    "\n",
    "var = ['QUANTIDADE_POPULACAO', 'IDMH', 'CRIMES_POR_100K', 'pib_per_capita', 'taxa_escolarizacao']\n",
    "X = df_sem_outliers[var]\n",
    "\n",
    "# Imputar valores ausentes com a média\n",
    "imputer = SimpleImputer(strategy='mean')\n",
    "X_imputed = imputer.fit_transform(X)\n",
    "\n",
    "# Padronizar os dados\n",
    "scaler = StandardScaler()\n",
    "X_scaled = scaler.fit_transform(X_imputed)\n",
    "\n",
    "kmeans = KMeans(n_clusters=3, random_state=42)\n",
    "df_sem_outliers['grupo'] = kmeans.fit_predict(X_scaled)\n",
    "\n",
    "# 📊 Visualizar os grupos (usando população vs crimes por 100k)\n",
    "plt.figure(figsize=(10, 6))\n",
    "sns.scatterplot(\n",
    "    data=df_sem_outliers,\n",
    "    x='QUANTIDADE_POPULACAO',\n",
    "    y='CRIMES_POR_100K',\n",
    "    hue='grupo',\n",
    "    palette='viridis',\n",
    "    s=80\n",
    ")\n",
    "plt.title(\"Agrupamento de Municípios por Perfil de Criminalidade\")\n",
    "plt.xlabel(\"População\")\n",
    "plt.ylabel(\"Crimes por 100 mil habitantes\")\n",
    "plt.legend(title=\"Grupo\")\n",
    "plt.show()"
   ]
  },
  {
   "cell_type": "code",
   "execution_count": 130,
   "metadata": {},
   "outputs": [
    {
     "data": {
      "application/vnd.microsoft.datawrangler.viewer.v0+json": {
       "columns": [
        {
         "name": "index",
         "rawType": "int64",
         "type": "integer"
        },
        {
         "name": "grupo",
         "rawType": "int32",
         "type": "integer"
        },
        {
         "name": "QUANTIDADE_POPULACAO",
         "rawType": "float64",
         "type": "float"
        },
        {
         "name": "IDMH",
         "rawType": "float64",
         "type": "float"
        },
        {
         "name": "CRIMES_POR_100K",
         "rawType": "float64",
         "type": "float"
        },
        {
         "name": "pib_per_capita",
         "rawType": "float64",
         "type": "float"
        },
        {
         "name": "taxa_escolarizacao",
         "rawType": "float64",
         "type": "float"
        }
       ],
       "ref": "39b92bb5-425a-472c-b187-3c1d9e63a45d",
       "rows": [
        [
         "0",
         "0",
         "28042.73",
         "0.74",
         "221.96",
         "41531.88",
         "98.52"
        ],
        [
         "1",
         "1",
         "26503.86",
         "0.71",
         "243.33",
         "31464.51",
         "96.38"
        ],
        [
         "2",
         "2",
         "337901.39",
         "0.77",
         "1028.39",
         "88988.92",
         "97.4"
        ]
       ],
       "shape": {
        "columns": 6,
        "rows": 3
       }
      },
      "text/html": [
       "<div>\n",
       "<style scoped>\n",
       "    .dataframe tbody tr th:only-of-type {\n",
       "        vertical-align: middle;\n",
       "    }\n",
       "\n",
       "    .dataframe tbody tr th {\n",
       "        vertical-align: top;\n",
       "    }\n",
       "\n",
       "    .dataframe thead th {\n",
       "        text-align: right;\n",
       "    }\n",
       "</style>\n",
       "<table border=\"1\" class=\"dataframe\">\n",
       "  <thead>\n",
       "    <tr style=\"text-align: right;\">\n",
       "      <th></th>\n",
       "      <th>grupo</th>\n",
       "      <th>QUANTIDADE_POPULACAO</th>\n",
       "      <th>IDMH</th>\n",
       "      <th>CRIMES_POR_100K</th>\n",
       "      <th>pib_per_capita</th>\n",
       "      <th>taxa_escolarizacao</th>\n",
       "    </tr>\n",
       "  </thead>\n",
       "  <tbody>\n",
       "    <tr>\n",
       "      <th>0</th>\n",
       "      <td>0</td>\n",
       "      <td>28042.73</td>\n",
       "      <td>0.74</td>\n",
       "      <td>221.96</td>\n",
       "      <td>41531.88</td>\n",
       "      <td>98.52</td>\n",
       "    </tr>\n",
       "    <tr>\n",
       "      <th>1</th>\n",
       "      <td>1</td>\n",
       "      <td>26503.86</td>\n",
       "      <td>0.71</td>\n",
       "      <td>243.33</td>\n",
       "      <td>31464.51</td>\n",
       "      <td>96.38</td>\n",
       "    </tr>\n",
       "    <tr>\n",
       "      <th>2</th>\n",
       "      <td>2</td>\n",
       "      <td>337901.39</td>\n",
       "      <td>0.77</td>\n",
       "      <td>1028.39</td>\n",
       "      <td>88988.92</td>\n",
       "      <td>97.40</td>\n",
       "    </tr>\n",
       "  </tbody>\n",
       "</table>\n",
       "</div>"
      ],
      "text/plain": [
       "   grupo  QUANTIDADE_POPULACAO  IDMH  CRIMES_POR_100K  pib_per_capita  \\\n",
       "0      0              28042.73  0.74           221.96        41531.88   \n",
       "1      1              26503.86  0.71           243.33        31464.51   \n",
       "2      2             337901.39  0.77          1028.39        88988.92   \n",
       "\n",
       "   taxa_escolarizacao  \n",
       "0               98.52  \n",
       "1               96.38  \n",
       "2               97.40  "
      ]
     },
     "execution_count": 130,
     "metadata": {},
     "output_type": "execute_result"
    }
   ],
   "source": [
    "# Calcular a média das variáveis por grupo\n",
    "colunas = ['QUANTIDADE_POPULACAO', 'IDMH', 'CRIMES_POR_100K', 'pib_per_capita', 'taxa_escolarizacao']\n",
    "medias_por_grupo = df_sem_outliers.groupby('grupo')[colunas].mean().round(2)\n",
    "medias_por_grupo.reset_index(inplace=True)\n",
    "\n",
    "# Visualizar\n",
    "medias_por_grupo\n",
    "\n"
   ]
  }
 ],
 "metadata": {
  "kernelspec": {
   "display_name": "Python 3",
   "language": "python",
   "name": "python3"
  },
  "language_info": {
   "codemirror_mode": {
    "name": "ipython",
    "version": 3
   },
   "file_extension": ".py",
   "mimetype": "text/x-python",
   "name": "python",
   "nbconvert_exporter": "python",
   "pygments_lexer": "ipython3",
   "version": "3.13.2"
  }
 },
 "nbformat": 4,
 "nbformat_minor": 2
}
